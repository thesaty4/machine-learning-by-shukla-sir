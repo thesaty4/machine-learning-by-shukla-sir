{
 "cells": [
  {
   "cell_type": "code",
   "execution_count": 4,
   "metadata": {},
   "outputs": [
    {
     "name": "stdout",
     "output_type": "stream",
     "text": [
      "+==============================================================+\n",
      "|>                                                            <|\n",
      "|>      Application Name     :    Loan Pridiction             <|\n",
      "|>      Developer            :    Satya Mishra                <|\n",
      "|>      Investigator         :    Mr. Pankaj Shukla           <|\n",
      "|>      Email                :    satyamishra559@gmail.com    <|\n",
      "|>      Language Used        :    Python 3 and Python 2       <|\n",
      "|>      Based On             :    Machine Learning            <|\n",
      "|>                                                            <|\n",
      "+==============================================================+\n",
      "[*] Loading all required module ...\n",
      "[+] Done !\n",
      "[*] Loading all Machine Learning Algorithem ...\n",
      "[*] It take some time, please wait ...\n",
      "[+] Done !\n"
     ]
    }
   ],
   "source": [
    "print(\"+==============================================================+\")\n",
    "print(\"|>                                                            <|\")\n",
    "print(\"|>      Application Name     :    Loan Pridiction             <|\")\n",
    "print(\"|>      Developer            :    Satya Mishra                <|\")\n",
    "print(\"|>      Investigator         :    Mr. Pankaj Shukla           <|\")\n",
    "print(\"|>      Email                :    satyamishra559@gmail.com    <|\")\n",
    "print(\"|>      Language Used        :    Python 3 and Python 2       <|\")\n",
    "print(\"|>      Based On             :    Machine Learning            <|\")\n",
    "print(\"|>                                                            <|\")\n",
    "print(\"+==============================================================+\")\n",
    "\n",
    "def load(msg):\n",
    "    print(\"[*]\",msg,\"...\")\n",
    "    \n",
    "def result(msg):\n",
    "    print(\"[+]\",msg)\n",
    "\n",
    "def done():\n",
    "    print(\"[+] Done !\")\n",
    "    \n",
    "def printLine():\n",
    "    print(\"+------------------------------------------------------------------+\")\n",
    "\n",
    "def userInput(msg):\n",
    "    value=input(msg)\n",
    "    return value\n",
    "\n",
    "def lenght(lst):\n",
    "    j=0\n",
    "    for i in lst:\n",
    "        j+=1\n",
    "    return j\n",
    "    \n",
    "load(\"Loading all required module\")\n",
    "import pandas as pd \n",
    "import numpy as np\n",
    "done()\n",
    "\n",
    "load(\"Loading all Machine Learning Algorithem\")\n",
    "from sklearn.model_selection import train_test_split\n",
    "from sklearn.preprocessing import MinMaxScaler\n",
    "from skimage.io import imread,imshow\n",
    "from sklearn.linear_model import LogisticRegression\n",
    "from sklearn.svm import SVC\n",
    "from sklearn.naive_bayes import GaussianNB\n",
    "from sklearn.naive_bayes import MultinomialNB \n",
    "load(\"It take some time, please wait\")\n",
    "from sklearn.tree import DecisionTreeClassifier\n",
    "from sklearn.neighbors import KNeighborsClassifier\n",
    "done()\n"
   ]
  },
  {
   "cell_type": "code",
   "execution_count": 5,
   "metadata": {},
   "outputs": [
    {
     "name": "stdout",
     "output_type": "stream",
     "text": [
      "\n",
      "Enter csv file path for training Machine (D:\\\\path\\\\ filename.csv) >train-data.csv\n",
      "[*] Reading file ...\n",
      "[+] Done !\n"
     ]
    }
   ],
   "source": [
    "# Reading data from csv file\n",
    "file=input(\"\\nEnter csv file path for training Machine (D:\\\\\\path\\\\\\ filename.csv) >\")\n",
    "load(\"Reading file\")\n",
    "csvFile=pd.read_csv(file)\n",
    "done()"
   ]
  },
  {
   "cell_type": "code",
   "execution_count": 6,
   "metadata": {},
   "outputs": [
    {
     "name": "stdout",
     "output_type": "stream",
     "text": [
      "------------------- For Removing unecessary data -------------------\n",
      "[ 1 ] Loan_ID\n",
      "[ 2 ] Gender\n",
      "[ 3 ] Married\n",
      "[ 4 ] Dependents\n",
      "[ 5 ] Education\n",
      "[ 6 ] Self_Employed\n",
      "[ 7 ] ApplicantIncome\n",
      "[ 8 ] CoapplicantIncome\n",
      "[ 9 ] LoanAmount\n",
      "[ 10 ] Loan_Amount_Term\n",
      "[ 11 ] Credit_History\n",
      "[ 12 ] Property_Area\n",
      "[ 13 ] Loan_Status\n",
      "+------------------------------------------------------------------+\n",
      "Which columns you want to remove Ex: (1,2,3 or 2) >> 1\n",
      "Which columns Outcome(Result) data Ex: (10) >> 13\n",
      "+------------------------------------------------------------------+\n",
      "[*] Please wait whlile second ...\n"
     ]
    }
   ],
   "source": [
    "col=csvFile.columns\n",
    "j=1\n",
    "print(\"------------------- For Removing unecessary data -------------------\")\n",
    "for i in col:\n",
    "    print(\"[\",j,\"]\",i)\n",
    "    j+=1\n",
    "printLine()\n",
    "\n",
    "delCol=input(\"Which columns you want to remove Ex: (1,2,3 or 2) >> \").split(\",\")\n",
    "delColumns=[]\n",
    "for i in delCol:\n",
    "    delColumns.append(int(i)-1)\n",
    "y=int(input(\"Which columns Outcome(Result) data Ex: (10) >> \"))\n",
    "y=y-1\n",
    "printLine()\n",
    "load(\"Please wait whlile second\")\n",
    "j=0\n",
    "for i in delColumns:\n",
    "    csvFile.drop([csvFile.columns[j]],axis=1,inplace=True)\n",
    "    j+=1\n",
    "X=csvFile.drop([csvFile.columns[y-j]],axis=1)\n",
    "org_feature=X\n",
    "y=csvFile.iloc[:,y-j]\n",
    "# y=pd.DataFrame(y,columns=[\"Loan_status\"])"
   ]
  },
  {
   "cell_type": "code",
   "execution_count": 7,
   "metadata": {},
   "outputs": [
    {
     "name": "stdout",
     "output_type": "stream",
     "text": [
      "[*] Data preprocessing, Checking null value ...\n"
     ]
    }
   ],
   "source": [
    "load(\"Data preprocessing, Checking null value\")"
   ]
  },
  {
   "cell_type": "code",
   "execution_count": 8,
   "metadata": {},
   "outputs": [
    {
     "name": "stdout",
     "output_type": "stream",
     "text": [
      "[*] You have 124 Null data, we are going to make good data...\n",
      "\n",
      "\n",
      "|>---------  Gender Have ---------<|\n",
      "Male      400\n",
      "Female     91\n",
      "Name: Gender, dtype: int64\n",
      "|>-----------------------------<|\n",
      "[1] To Fill String value EX:('hello'))\n",
      "[2] To Fill Integer value EX:(1,3,4..etc)\n",
      "[3] To Fill float value EX:(1.0,4.3 somthing)\n",
      "[4] To Fill value by avarage EX:(Add all value/100 )\n",
      "Enter dataType which you want to fill ? 1\n",
      "Enter String >> male\n",
      "[*] Filling ...\n",
      "[+] Done !\n",
      "\n",
      "\n",
      "|>---------  Married Have ---------<|\n",
      "Yes    322\n",
      "No     175\n",
      "Name: Married, dtype: int64\n",
      "|>-----------------------------<|\n",
      "[1] To Fill String value EX:('hello'))\n",
      "[2] To Fill Integer value EX:(1,3,4..etc)\n",
      "[3] To Fill float value EX:(1.0,4.3 somthing)\n",
      "[4] To Fill value by avarage EX:(Add all value/100 )\n",
      "Enter dataType which you want to fill ? 1\n",
      "Enter String >> yes\n",
      "[*] Filling ...\n",
      "[+] Done !\n",
      "\n",
      "\n",
      "|>---------  Dependents Have ---------<|\n",
      "0     288\n",
      "1      81\n",
      "2      79\n",
      "3+     40\n",
      "Name: Dependents, dtype: int64\n",
      "|>-----------------------------<|\n",
      "[1] To Fill String value EX:('hello'))\n",
      "[2] To Fill Integer value EX:(1,3,4..etc)\n",
      "[3] To Fill float value EX:(1.0,4.3 somthing)\n",
      "[4] To Fill value by avarage EX:(Add all value/100 )\n",
      "Enter dataType which you want to fill ? 1\n",
      "Enter String >> 0\n",
      "[*] Filling ...\n",
      "[+] Done !\n",
      "\n",
      "\n",
      "|>---------  Self_Employed Have ---------<|\n",
      "No     407\n",
      "Yes     66\n",
      "Name: Self_Employed, dtype: int64\n",
      "|>-----------------------------<|\n",
      "[1] To Fill String value EX:('hello'))\n",
      "[2] To Fill Integer value EX:(1,3,4..etc)\n",
      "[3] To Fill float value EX:(1.0,4.3 somthing)\n",
      "[4] To Fill value by avarage EX:(Add all value/100 )\n",
      "Enter dataType which you want to fill ? 1\n",
      "Enter String >> no\n",
      "[*] Filling ...\n",
      "[+] Done !\n",
      "\n",
      "\n",
      "|>---------  LoanAmount Have ---------<|\n",
      "120.0    19\n",
      "160.0    12\n",
      "110.0    12\n",
      "100.0    11\n",
      "128.0     9\n",
      "         ..\n",
      "330.0     1\n",
      "304.0     1\n",
      "192.0     1\n",
      "280.0     1\n",
      "700.0     1\n",
      "Name: LoanAmount, Length: 179, dtype: int64\n",
      "|>-----------------------------<|\n",
      "[1] To Fill String value EX:('hello'))\n",
      "[2] To Fill Integer value EX:(1,3,4..etc)\n",
      "[3] To Fill float value EX:(1.0,4.3 somthing)\n",
      "[4] To Fill value by avarage EX:(Add all value/100 )\n",
      "Enter dataType which you want to fill ? 4\n",
      "[*] Filling ...\n",
      "[+] Done !\n",
      "\n",
      "\n",
      "|>---------  Loan_Amount_Term Have ---------<|\n",
      "360.0    415\n",
      "180.0     35\n",
      "480.0     12\n",
      "300.0     12\n",
      "240.0      3\n",
      "120.0      3\n",
      "84.0       2\n",
      "60.0       2\n",
      "12.0       1\n",
      "36.0       1\n",
      "Name: Loan_Amount_Term, dtype: int64\n",
      "|>-----------------------------<|\n",
      "[1] To Fill String value EX:('hello'))\n",
      "[2] To Fill Integer value EX:(1,3,4..etc)\n",
      "[3] To Fill float value EX:(1.0,4.3 somthing)\n",
      "[4] To Fill value by avarage EX:(Add all value/100 )\n",
      "Enter dataType which you want to fill ? 3\n",
      "Enter Float value >> 360\n",
      "[*] Filling ...\n",
      "[+] Done !\n",
      "\n",
      "\n",
      "|>---------  Credit_History Have ---------<|\n",
      "1.0    387\n",
      "0.0     72\n",
      "Name: Credit_History, dtype: int64\n",
      "|>-----------------------------<|\n",
      "[1] To Fill String value EX:('hello'))\n",
      "[2] To Fill Integer value EX:(1,3,4..etc)\n",
      "[3] To Fill float value EX:(1.0,4.3 somthing)\n",
      "[4] To Fill value by avarage EX:(Add all value/100 )\n",
      "Enter dataType which you want to fill ? 3\n",
      "Enter Float value >> 1\n",
      "[*] Filling ...\n",
      "[+] Done !\n"
     ]
    }
   ],
   "source": [
    "def myFun(lst):\n",
    "    usrPut=input(\"Enter value which is Maximume >> \").title().strip()\n",
    "    if(usrPut in lst):\n",
    "        return usrPut\n",
    "    else:\n",
    "        print(\"[-] Opps ! invalid input..\")\n",
    "        return False\n",
    "j=0\n",
    "total_null=0\n",
    "for i in X:\n",
    "    single_col=X[X.columns[j]].isnull().sum()\n",
    "    total_null+=single_col\n",
    "    j+=1\n",
    "if(total_null==0):\n",
    "    result(\"Don't have any null value, that's good :)\")\n",
    "else:\n",
    "    j=0\n",
    "    print(\"[*] You have\",total_null,\"Null data, we are going to make good data...\")\n",
    "    \n",
    "    def fillData(value):\n",
    "        load(\"Filling\")\n",
    "        X[i].fillna(value,inplace=True)\n",
    "        done() \n",
    "\n",
    "    def fillFunction():\n",
    "        dataType=int(input(\"Enter dataType which you want to fill ? \"))\n",
    "\n",
    "        if(dataType==1):\n",
    "            value=input(\"Enter String >> \").title()\n",
    "            fillData(value)\n",
    "\n",
    "        elif(dataType==2):\n",
    "            value=int(userInput(\"Enter Integer value >> \"))\n",
    "            fillData(value)\n",
    "\n",
    "        elif(dataType==3):\n",
    "            value=float(userInput(\"Enter Float value >> \"))\n",
    "            fillData(value)\n",
    "\n",
    "        elif(dataType==4):\n",
    "            value=X[i].mean()\n",
    "            fillData(value)\n",
    "\n",
    "        else:\n",
    "            print(\"[-] Warning ! Please input valid value.\")\n",
    "            fillFunction()  \n",
    "    for i in X:\n",
    "        single_col=X[X.columns[j]].isnull().sum()\n",
    "        if(single_col != 0):\n",
    "            print(\"\\n\\n|>--------- \",i,\"Have ---------<|\")\n",
    "            print(X[i].value_counts())\n",
    "            print(\"|>-----------------------------<|\")\n",
    "            print(\"[1] To Fill String value EX:('hello'))\")\n",
    "            print(\"[2] To Fill Integer value EX:(1,3,4..etc)\")\n",
    "            print(\"[3] To Fill float value EX:(1.0,4.3 somthing)\")\n",
    "            print(\"[4] To Fill value by avarage EX:(Add all value/100 )\")\n",
    "            fillFunction()\n",
    "        j+=1"
   ]
  },
  {
   "cell_type": "code",
   "execution_count": 9,
   "metadata": {},
   "outputs": [
    {
     "name": "stdout",
     "output_type": "stream",
     "text": [
      "\n",
      "[+] Your data successfully cleaned...\n",
      "\n"
     ]
    }
   ],
   "source": [
    "print(\"\\n[+] Your data successfully cleaned...\\n\")"
   ]
  },
  {
   "cell_type": "code",
   "execution_count": 10,
   "metadata": {},
   "outputs": [
    {
     "name": "stdout",
     "output_type": "stream",
     "text": [
      "[*] Creating your data into Machine readable formate ...\n",
      "[+] Done !\n"
     ]
    }
   ],
   "source": [
    "load(\"Creating your data into Machine readable formate\")\n",
    "X=pd.get_dummies(X)\n",
    "done()"
   ]
  },
  {
   "cell_type": "code",
   "execution_count": 11,
   "metadata": {},
   "outputs": [
    {
     "name": "stdout",
     "output_type": "stream",
     "text": [
      "\n",
      "[*] Normalizing data ...\n",
      "[+] Done !\n",
      "\n"
     ]
    }
   ],
   "source": [
    "print(\"\")\n",
    "load(\"Normalizing data\")\n",
    "scale=MinMaxScaler(feature_range=(0,1))\n",
    "X[X.columns]=scale.fit_transform(X[X.columns])\n",
    "done()\n",
    "print(\"\")"
   ]
  },
  {
   "cell_type": "code",
   "execution_count": 12,
   "metadata": {},
   "outputs": [
    {
     "name": "stdout",
     "output_type": "stream",
     "text": [
      "Enter size to spliting Testing data recommand(25) >> 25\n",
      "[*] Spliting your data into Training and Testing ...\n",
      "[+] Done !\n"
     ]
    }
   ],
   "source": [
    "split_size=int(input(\"Enter size to spliting Testing data recommand(25) >> \"))/100\n",
    "load(\"Spliting your data into Training and Testing\")\n",
    "X_train,X_test,y_train,y_test=train_test_split(X,y,test_size=split_size)\n",
    "done()"
   ]
  },
  {
   "cell_type": "code",
   "execution_count": 13,
   "metadata": {},
   "outputs": [
    {
     "name": "stdout",
     "output_type": "stream",
     "text": [
      "[+] You have to done maximume 90% work !\n"
     ]
    }
   ],
   "source": [
    "result(\"You have to done maximume 90% work !\")"
   ]
  },
  {
   "cell_type": "code",
   "execution_count": 14,
   "metadata": {},
   "outputs": [
    {
     "name": "stdout",
     "output_type": "stream",
     "text": [
      "[*] Fit Training Data into Machine,it take some time ...\n",
      "Loadining.. 10%\n",
      "Loadining......... 25%\n",
      "Loadining................ 45%\n",
      "Loadining........................ 75%\n",
      "Loadining............................... 80%\n",
      "Loadining....................................... 100%\n"
     ]
    }
   ],
   "source": [
    "load(\"Fit Training Data into Machine,it take some time\")\n",
    "lr=LogisticRegression()\n",
    "lr.fit(X_train,y_train)\n",
    "print(\"Loadining.. 10%\")\n",
    "\n",
    "svm=SVC()\n",
    "svm.fit(X_train,y_train)\n",
    "print(\"Loadining......... 25%\")\n",
    "\n",
    "knn=KNeighborsClassifier()\n",
    "knn.fit(X_train,y_train)\n",
    "print(\"Loadining................ 45%\")\n",
    "\n",
    "gnb=GaussianNB()\n",
    "gnb.fit(X_train,y_train)\n",
    "print(\"Loadining........................ 75%\")\n",
    "\n",
    "mnb=MultinomialNB()\n",
    "mnb.fit(X_train,y_train)\n",
    "print(\"Loadining............................... 80%\")\n",
    "\n",
    "tree=DecisionTreeClassifier()\n",
    "tree.fit(X_train,y_train)\n",
    "print(\"Loadining....................................... 100%\")"
   ]
  },
  {
   "cell_type": "code",
   "execution_count": 15,
   "metadata": {},
   "outputs": [
    {
     "name": "stdout",
     "output_type": "stream",
     "text": [
      "\n",
      "[*] Predicting score of model ...\n"
     ]
    }
   ],
   "source": [
    "print(\"\")\n",
    "load(\"Predicting score of model\")"
   ]
  },
  {
   "cell_type": "code",
   "execution_count": 16,
   "metadata": {},
   "outputs": [
    {
     "name": "stdout",
     "output_type": "stream",
     "text": [
      "[+] Done !\n",
      "[+] Model is ready for use !\n"
     ]
    }
   ],
   "source": [
    "lr_score=lr.score(X_test,y_test)\n",
    "svm_score=svm.score(X_test,y_test)\n",
    "knn_score=knn.score(X_test,y_test)\n",
    "gnb_score=gnb.score(X_test,y_test)\n",
    "mnb_score=mnb.score(X_test,y_test)\n",
    "tree_score=tree.score(X_test,y_test)\n",
    "done()\n",
    "result(\"Model is ready for use !\")"
   ]
  },
  {
   "cell_type": "code",
   "execution_count": 17,
   "metadata": {},
   "outputs": [
    {
     "name": "stdout",
     "output_type": "stream",
     "text": [
      "+---------------------------------------------------------+\n",
      "|1| LogisticRegression Score= 80.80000000000001 %\n",
      "|2| SVM (Support Vector Machine) Score= 80.80000000000001 %\n",
      "|3| KNeighborsClassifier Score= 72.0 %\n",
      "|4| GaussianNB Score= 80.0 %\n",
      "|5| MutinomialNB Score= 75.2 %\n",
      "|6| DecisionTreeClassifier Score= 67.2 %\n",
      "+---------------------------------------------------------+\n",
      "Which Algorithem you want to use (1-6) >> 1\n",
      "+---------------------------------------------------------+\n",
      "|> Enter your name >> satya\n",
      "+---------------------------------------------------------+\n"
     ]
    }
   ],
   "source": [
    "def algoError():\n",
    "    algo_use=int(input(\"Which Algorithem you want to use (1-6) >> \"))\n",
    "    if(algo_use >= 1 and algo_use <= 6):\n",
    "        return algo_use\n",
    "    else:\n",
    "        print(\"[-] Warning ! please input valid number 1-6 only >> \")\n",
    "        return False\n",
    "    \n",
    "print(\"+---------------------------------------------------------+\")\n",
    "print(\"|1| LogisticRegression Score=\",lr_score*100,\"%\")\n",
    "print(\"|2| SVM (Support Vector Machine) Score=\",svm_score*100,\"%\")\n",
    "print(\"|3| KNeighborsClassifier Score=\",knn_score*100,\"%\")\n",
    "print(\"|4| GaussianNB Score=\",gnb_score*100,\"%\")\n",
    "print(\"|5| MutinomialNB Score=\",mnb_score*100,\"%\")\n",
    "print(\"|6| DecisionTreeClassifier Score=\",tree_score*100,\"%\")\n",
    "print(\"+---------------------------------------------------------+\")\n",
    "\n",
    "algo_use=algoError()\n",
    "if(algo_use==False):\n",
    "    algo_use=algoError()\n",
    "    if(algo_use==False):\n",
    "        algo_use=algoError()\n",
    "        if(algo_use==False):\n",
    "            algo_use=algoError()\n",
    "            if(algo_use==False):\n",
    "                algo_use=algoError()\n",
    "                if(algo_use==False):\n",
    "                    algo_use=algoError()\n",
    "                    if(algo_use==False):\n",
    "                        algo_use=algoError()\n",
    "                        if(algo_use==False):\n",
    "                            algo_use=algoError()\n",
    "                            if(algo_use==False):\n",
    "                                print(\"[+] Error ! TimeOut please run again all code...\")\n",
    "\n",
    "print(\"+---------------------------------------------------------+\")\n",
    "            \n",
    "    \n",
    "# Implementing model------------------------------------------------\n",
    "name=input(\"|> Enter your name >> \").title()\n",
    "print(\"+---------------------------------------------------------+\")"
   ]
  },
  {
   "cell_type": "code",
   "execution_count": 18,
   "metadata": {},
   "outputs": [
    {
     "name": "stdout",
     "output_type": "stream",
     "text": [
      "\n",
      "Satya's Gender (Male OR Female) >> male\n",
      "\n",
      "Satya's Married (No OR Yes) >> no\n",
      "\n",
      "Satya's Enter any Dependents ['0', '1', '2', '3+'] >> 0\n",
      "\n",
      "Satya's Education (Graduate OR Not Graduate) >> graduate\n",
      "\n",
      "Satya's Self_Employed (No OR Yes) >> no\n",
      "\n",
      "Input ApplicantIncome value (Min : 150, Max : 81000) >>2222\n",
      "\n",
      "Input CoapplicantIncome value (Min : 0.0, Max : 20000.0) >>333\n",
      "\n",
      "Input LoanAmount value (Min : 17.0, Max : 700.0) >>333\n",
      "\n",
      "Input Loan_Amount_Term value (Min : 12.0, Max : 480.0) >>222\n",
      "\n",
      "Input Credit_History value (Min : 0.0, Max : 1.0) >>1\n",
      "\n",
      "Satya's Enter any Property_Area ['Urban', 'Rural', 'Semiurban'] >> urban\n"
     ]
    }
   ],
   "source": [
    "# ------------------------------------------ user handle ---------------------------------------\n",
    "#Validation function declear\n",
    "def validateData(input_data,list):\n",
    "    # Checking enterd data valid?\n",
    "    if(input_data in list):\n",
    "        return True\n",
    "    else:\n",
    "        print(\"[-] Oops ! Invalid input.\")\n",
    "        return False\n",
    "\n",
    "# Intereger validation\n",
    "def floatIntValidate(input_data,list):\n",
    "    # Checking enterd data valid?\n",
    "    if(input_data >= list[0] and input_data <= list[-1]):\n",
    "        return True\n",
    "    else:\n",
    "        print(\"[-] Oops ! Invalid input. its only take under (\"+str(list[0])+\" to \"+str(list[-1])+\") value\")\n",
    "        return False\n",
    "\n",
    "    \n",
    "userInputData=[]\n",
    "csvFile=org_feature\n",
    "j=0\n",
    "for i in csvFile:\n",
    "    #If value is string  \n",
    "    if(type(csvFile[csvFile.columns[j]][0]) == str):\n",
    "        list=[]     \n",
    "        # Filtering columns\n",
    "        for k in csvFile[csvFile.columns[j]]:\n",
    "            if(k in list):\n",
    "                continue\n",
    "            elif(type(k)==str):\n",
    "                list.append(k)\n",
    "        #Inputting data from user\n",
    "        if(lenght(list) <= 2):   \n",
    "            print(\"\")\n",
    "            input_data=input(name+\"'s \"+csvFile.columns[j]+\" (\"+str(list[0])+\" OR \"+str(list[-1])+\") >> \").title()\n",
    "            # Checking enterd data valid?\n",
    "            if(validateData(input_data,list)==False):\n",
    "                input_data=input(name+\"'s \"+csvFile.columns[j]+\" (\"+str(list[0])+\" OR \"+str(list[-1])+\") >> \").title()\n",
    "                input_data=input_data.strip()\n",
    "                if(validateData(input_data,list)==False):\n",
    "                    input_data=input(name+\"'s \"+csvFile.columns[j]+\" (\"+str(list[0])+\" OR \"+str(list[-1])+\") >> \").title()\n",
    "                    input_data=input_data.strip()\n",
    "                    if(validateData(input_data,list)==False):\n",
    "                        input_data=input(name+\"'s \"+csvFile.columns[j]+\" (\"+str(list[0])+\" OR \"+str(list[-1])+\") >> \").title()\n",
    "                        input_data=input_data.strip()\n",
    "                        if(validateData(input_data,list)==False):\n",
    "                            print(\"[-] Opps ! Time out, you have to restart all programm.\")\n",
    "                            break      \n",
    "        else:\n",
    "            print(\"\")\n",
    "            input_data=input(name+\"'s Enter any \"+csvFile.columns[j]+\" \"+str(list)+\" >> \").title()\n",
    "            input_data=input_data.strip()\n",
    "            # Checking enterd data valid?\n",
    "            if(validateData(input_data,list)==False):\n",
    "                input_data=input(name+\"'s Enter any \"+csvFile.columns[j]+\" \"+str(list)+\" >> \").title()\n",
    "                input_data=input_data.strip()\n",
    "                if(validateData(input_data,list)==False):\n",
    "                    input_data=input(name+\"'s Enter any \"+csvFile.columns[j]+\" \"+str(list)+\" >> \").title()\n",
    "                    input_data=input_data.strip()\n",
    "                    if(validateData(input_data,list)==False):\n",
    "                        input_data=input(name+\"'s Enter any \"+csvFile.columns[j]+\" \"+str(list)+\" >> \").title()\n",
    "                        input_data=input_data.strip()\n",
    "                        if(validateData(input_data,list)==False):\n",
    "                            print(\"[-] Opps ! Time out, you have to restart all programm.\")\n",
    "                            break\n",
    "        userInputData.append(input_data)\n",
    "        \n",
    "    #If value is integer    \n",
    "    elif(type(csvFile[csvFile.columns[j]][0]) == int):\n",
    "        #  filtering cloumns       \n",
    "        Intlist=[] \n",
    "        minVal=int(csvFile[csvFile.columns[j]].min())\n",
    "        Intlist.append(minVal)\n",
    "        maxVal=(csvFile[csvFile.columns[j]].max())\n",
    "        Intlist.append(maxVal)\n",
    "                \n",
    "        print(\"\")\n",
    "        input_data=int(input(\"Enter \"+csvFile.columns[j]+\" value (Min : \"+str(csvFile[csvFile.columns[j]].min())+\", Max : \"+str(csvFile[csvFile.columns[j]].max())+\") >>\"))\n",
    "       # Checking enterd data valid?\n",
    "        if(floatIntValidate(input_data,Intlist)==False):\n",
    "            input_data=int(input(\"Enter \"+csvFile.columns[j]+\" value (Min : \"+str(csvFile[csvFile.columns[j]].min())+\", Max : \"+str(csvFile[csvFile.columns[j]].max())+\") >>\"))\n",
    "            if(floatIntValidate(input_data,Intlist)==False):\n",
    "                input_data=int(input(\"Enter \"+csvFile.columns[j]+\" value (Min : \"+str(csvFile[csvFile.columns[j]].min())+\", Max : \"+str(csvFile[csvFile.columns[j]].max())+\") >>\"))\n",
    "                if(floatIntValidate(input_data,Intlist)==False):\n",
    "                    input_data=int(input(\"Enter \"+csvFile.columns[j]+\" value (Min : \"+str(csvFile[csvFile.columns[j]].min())+\", Max : \"+str(csvFile[csvFile.columns[j]].max())+\") >>\"))\n",
    "                    if(floatIntValidate(input_data,Intlist)==False):\n",
    "                        print(\"[-] Opps ! Time out, you have to restart all programm.\")\n",
    "                        break\n",
    "        userInputData.append(input_data)\n",
    "    \n",
    "    #If value is Float  \n",
    "    else:\n",
    "        floatList=[] \n",
    "        flist1=float(csvFile[csvFile.columns[j]].min())\n",
    "        floatList.append(flist1)\n",
    "        flist2=float(csvFile[csvFile.columns[j]].max())\n",
    "        floatList.append(flist2)\n",
    "        \n",
    "        print(\"\")\n",
    "        input_data=float(input(\"Input \"+csvFile.columns[j]+\" value (Min : \"+str(csvFile[csvFile.columns[j]].min())+\", Max : \"+str(csvFile[csvFile.columns[j]].max())+\") >>\"))\n",
    "        # Checking enterd data valid?\n",
    "        if(floatIntValidate(input_data,floatList)==False):\n",
    "            input_data=float(input(\"Input \"+csvFile.columns[j]+\" value (Min : \"+str(csvFile[csvFile.columns[j]].min())+\", Max : \"+str(csvFile[csvFile.columns[j]].max())+\") >>\"))\n",
    "            if(floatIntValidate(input_data,floatList)==False):\n",
    "                input_data=float(input(\"Input \"+csvFile.columns[j]+\" value (Min : \"+str(csvFile[csvFile.columns[j]].min())+\", Max : \"+str(csvFile[csvFile.columns[j]].max())+\") >>\"))\n",
    "                if(floatIntValidate(input_data,floatList)==False):\n",
    "                    input_data=float(input(\"Input \"+csvFile.columns[j]+\" value (Min : \"+str(csvFile[csvFile.columns[j]].min())+\", Max : \"+str(csvFile[csvFile.columns[j]].max())+\") >>\"))\n",
    "                    if(floatIntValidate(input_data,floatList)==False):\n",
    "                        print(\"[-] Error (404) Time out, you have to restart all programm.\")\n",
    "                        break\n",
    "        userInputData.append(input_data)\n",
    "    j+=1\n",
    "    "
   ]
  },
  {
   "cell_type": "code",
   "execution_count": 19,
   "metadata": {},
   "outputs": [
    {
     "name": "stdout",
     "output_type": "stream",
     "text": [
      "[*] please wait ...\n",
      "[*] Making your data into Machine readable formate ...\n",
      "[+] Done !\n",
      "[*] Checking missing columns ...\n",
      "[*] filling missing columns ...\n",
      "[+] Done !\n"
     ]
    }
   ],
   "source": [
    "# ------------------------------ user input's data preprocessing -------------------------------------------------\n",
    "load(\"please wait\")\n",
    "userInput=pd.DataFrame([userInputData],columns=csvFile.columns)\n",
    "\n",
    "# Making machine readable formate\n",
    "load(\"Making your data into Machine readable formate\")\n",
    "newDf=pd.get_dummies(userInput)\n",
    "done()\n",
    "\n",
    "load(\"Checking missing columns\")\n",
    "missCol=set(X.columns)-set(userInput.columns)\n",
    "\n",
    "load(\"filling missing columns\")\n",
    "for i in missCol:\n",
    "    newDf[i]=0\n",
    "done()"
   ]
  },
  {
   "cell_type": "code",
   "execution_count": 20,
   "metadata": {},
   "outputs": [
    {
     "name": "stdout",
     "output_type": "stream",
     "text": [
      "\n",
      "[*] Predicting ...\n",
      "\n",
      "+=======================================================================+\n",
      "|> Congratulation Mr/Mrs. Satya ! Your loan has been approved \n",
      "+=======================================================================+\n",
      "\n"
     ]
    }
   ],
   "source": [
    "# Predict ----------------------------\n",
    "def WhichAlgo(algo,data):\n",
    "    if(algo==1):\n",
    "        return lr.predict(data)\n",
    "    elif(algo==2):\n",
    "        return svm.predict(data)\n",
    "    elif(algo==3):\n",
    "        return knn.predict(data)\n",
    "    elif(algo==4):\n",
    "        return gnb.predict(data)\n",
    "    elif(algo==5):\n",
    "        return mnb.predict(data)\n",
    "    elif(algo==4):\n",
    "        return tree.predict(data)\n",
    "\n",
    "print(\"\")\n",
    "load(\"Predicting\")\n",
    "predict=WhichAlgo(algo_use,newDf)\n",
    "\n",
    "# ---------------------Result / Outcome\n",
    "if(predict[0]=='Y'):\n",
    "    print(\"\")\n",
    "    print(\"+=======================================================================+\")\n",
    "    print(\"|> Congratulation Mr/Mrs.\",name ,\"! Your loan has been approved \")\n",
    "    print(\"+=======================================================================+\\n\")\n",
    "#     wantAgain()\n",
    "else:\n",
    "    print(\"+===================================================================+\")\n",
    "    print(\"|> \\tSorry \",name,\"! Your loan is not approved . \")\n",
    "    print(\"+===================================================================+\\n\")\n",
    "#     wantAgain()\n"
   ]
  }
 ],
 "metadata": {
  "kernelspec": {
   "display_name": "Python 3",
   "language": "python",
   "name": "python3"
  },
  "language_info": {
   "codemirror_mode": {
    "name": "ipython",
    "version": 3
   },
   "file_extension": ".py",
   "mimetype": "text/x-python",
   "name": "python",
   "nbconvert_exporter": "python",
   "pygments_lexer": "ipython3",
   "version": "3.8.3"
  }
 },
 "nbformat": 4,
 "nbformat_minor": 4
}
