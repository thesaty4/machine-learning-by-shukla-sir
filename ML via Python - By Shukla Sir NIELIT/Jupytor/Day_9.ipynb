{
 "cells": [
  {
   "cell_type": "code",
   "execution_count": null,
   "metadata": {},
   "outputs": [],
   "source": [
    "#in a module there can be any number of classes or any number of functions etc.\n",
    "import Twoclassmodule as tc\n",
    "x=tc.mylist(3)\n",
    "s=x.sum()"
   ]
  },
  {
   "cell_type": "code",
   "execution_count": null,
   "metadata": {},
   "outputs": [],
   "source": [
    "print(s)"
   ]
  },
  {
   "cell_type": "code",
   "execution_count": null,
   "metadata": {},
   "outputs": [],
   "source": [
    "x.display()"
   ]
  },
  {
   "cell_type": "code",
   "execution_count": null,
   "metadata": {},
   "outputs": [],
   "source": [
    "n=tc.mynumber(6)\n",
    "a=n.factorial()\n",
    "print(a)"
   ]
  },
  {
   "cell_type": "code",
   "execution_count": null,
   "metadata": {},
   "outputs": [],
   "source": [
    "#Using from statement you can import only a component(class etc.) of a module\n",
    "from Twoclassmodule import mylist\n",
    "x=mylist(3)\n"
   ]
  },
  {
   "cell_type": "code",
   "execution_count": null,
   "metadata": {},
   "outputs": [],
   "source": [
    "x.display()"
   ]
  },
  {
   "cell_type": "code",
   "execution_count": null,
   "metadata": {},
   "outputs": [],
   "source": [
    "x.max()"
   ]
  },
  {
   "cell_type": "code",
   "execution_count": null,
   "metadata": {},
   "outputs": [],
   "source": [
    "n=mynumber(5)"
   ]
  },
  {
   "cell_type": "code",
   "execution_count": null,
   "metadata": {},
   "outputs": [],
   "source": [
    "from Twoclassmodule import *\n",
    "n=mynumber(5)"
   ]
  },
  {
   "cell_type": "code",
   "execution_count": null,
   "metadata": {},
   "outputs": [],
   "source": [
    "n.isprime()"
   ]
  },
  {
   "cell_type": "code",
   "execution_count": 1,
   "metadata": {},
   "outputs": [
    {
     "name": "stdout",
     "output_type": "stream",
     "text": [
      "35\n"
     ]
    }
   ],
   "source": [
    "#In python, you can not use same function name more than once in a class\n",
    "import Twoclassmodule as tc\n",
    "a=tc.multi(5,7)\n",
    "print(a)"
   ]
  },
  {
   "cell_type": "code",
   "execution_count": 4,
   "metadata": {},
   "outputs": [
    {
     "name": "stdout",
     "output_type": "stream",
     "text": [
      "20\n"
     ]
    }
   ],
   "source": [
    "from Twoclassmodule import multi\n",
    "x=multi(5,4)\n",
    "print(x)"
   ]
  },
  {
   "cell_type": "code",
   "execution_count": 5,
   "metadata": {},
   "outputs": [
    {
     "name": "stdout",
     "output_type": "stream",
     "text": [
      "     Name      Age    Marks\n",
      "0    Ravi       70        ?\n",
      "1   Mohan  Missing       23\n",
      "2   Shyam       80  Missing\n",
      "3     Icy        ?       21\n",
      "4  Saumya       90       20\n"
     ]
    }
   ],
   "source": [
    "import pandas as pd\n",
    "df=pd.read_csv(\"D:\\\\Big Data Analytics\\\\Online\\\\03sep.csv\")\n",
    "print(df)"
   ]
  },
  {
   "cell_type": "code",
   "execution_count": 6,
   "metadata": {},
   "outputs": [
    {
     "data": {
      "text/html": [
       "<div>\n",
       "<style scoped>\n",
       "    .dataframe tbody tr th:only-of-type {\n",
       "        vertical-align: middle;\n",
       "    }\n",
       "\n",
       "    .dataframe tbody tr th {\n",
       "        vertical-align: top;\n",
       "    }\n",
       "\n",
       "    .dataframe thead th {\n",
       "        text-align: right;\n",
       "    }\n",
       "</style>\n",
       "<table border=\"1\" class=\"dataframe\">\n",
       "  <thead>\n",
       "    <tr style=\"text-align: right;\">\n",
       "      <th></th>\n",
       "      <th>Name</th>\n",
       "      <th>Age</th>\n",
       "      <th>Marks</th>\n",
       "    </tr>\n",
       "  </thead>\n",
       "  <tbody>\n",
       "    <tr>\n",
       "      <th>0</th>\n",
       "      <td>Ravi</td>\n",
       "      <td>70</td>\n",
       "      <td>?</td>\n",
       "    </tr>\n",
       "    <tr>\n",
       "      <th>1</th>\n",
       "      <td>Mohan</td>\n",
       "      <td>Missing</td>\n",
       "      <td>23</td>\n",
       "    </tr>\n",
       "    <tr>\n",
       "      <th>2</th>\n",
       "      <td>Shyam</td>\n",
       "      <td>80</td>\n",
       "      <td>Missing</td>\n",
       "    </tr>\n",
       "    <tr>\n",
       "      <th>3</th>\n",
       "      <td>Icy</td>\n",
       "      <td>?</td>\n",
       "      <td>21</td>\n",
       "    </tr>\n",
       "    <tr>\n",
       "      <th>4</th>\n",
       "      <td>Saumya</td>\n",
       "      <td>90</td>\n",
       "      <td>20</td>\n",
       "    </tr>\n",
       "  </tbody>\n",
       "</table>\n",
       "</div>"
      ],
      "text/plain": [
       "     Name      Age    Marks\n",
       "0    Ravi       70        ?\n",
       "1   Mohan  Missing       23\n",
       "2   Shyam       80  Missing\n",
       "3     Icy        ?       21\n",
       "4  Saumya       90       20"
      ]
     },
     "execution_count": 6,
     "metadata": {},
     "output_type": "execute_result"
    }
   ],
   "source": [
    "#print first 5 rows\n",
    "df.head()"
   ]
  },
  {
   "cell_type": "code",
   "execution_count": 7,
   "metadata": {},
   "outputs": [
    {
     "data": {
      "text/html": [
       "<div>\n",
       "<style scoped>\n",
       "    .dataframe tbody tr th:only-of-type {\n",
       "        vertical-align: middle;\n",
       "    }\n",
       "\n",
       "    .dataframe tbody tr th {\n",
       "        vertical-align: top;\n",
       "    }\n",
       "\n",
       "    .dataframe thead th {\n",
       "        text-align: right;\n",
       "    }\n",
       "</style>\n",
       "<table border=\"1\" class=\"dataframe\">\n",
       "  <thead>\n",
       "    <tr style=\"text-align: right;\">\n",
       "      <th></th>\n",
       "      <th>Name</th>\n",
       "      <th>Age</th>\n",
       "      <th>Marks</th>\n",
       "    </tr>\n",
       "  </thead>\n",
       "  <tbody>\n",
       "    <tr>\n",
       "      <th>0</th>\n",
       "      <td>Ravi</td>\n",
       "      <td>70</td>\n",
       "      <td>?</td>\n",
       "    </tr>\n",
       "    <tr>\n",
       "      <th>1</th>\n",
       "      <td>Mohan</td>\n",
       "      <td>Missing</td>\n",
       "      <td>23</td>\n",
       "    </tr>\n",
       "    <tr>\n",
       "      <th>2</th>\n",
       "      <td>Shyam</td>\n",
       "      <td>80</td>\n",
       "      <td>Missing</td>\n",
       "    </tr>\n",
       "    <tr>\n",
       "      <th>3</th>\n",
       "      <td>Icy</td>\n",
       "      <td>?</td>\n",
       "      <td>21</td>\n",
       "    </tr>\n",
       "    <tr>\n",
       "      <th>4</th>\n",
       "      <td>Saumya</td>\n",
       "      <td>90</td>\n",
       "      <td>20</td>\n",
       "    </tr>\n",
       "  </tbody>\n",
       "</table>\n",
       "</div>"
      ],
      "text/plain": [
       "     Name      Age    Marks\n",
       "0    Ravi       70        ?\n",
       "1   Mohan  Missing       23\n",
       "2   Shyam       80  Missing\n",
       "3     Icy        ?       21\n",
       "4  Saumya       90       20"
      ]
     },
     "execution_count": 7,
     "metadata": {},
     "output_type": "execute_result"
    }
   ],
   "source": [
    "df.tail()"
   ]
  },
  {
   "cell_type": "code",
   "execution_count": 9,
   "metadata": {},
   "outputs": [
    {
     "data": {
      "text/html": [
       "<div>\n",
       "<style scoped>\n",
       "    .dataframe tbody tr th:only-of-type {\n",
       "        vertical-align: middle;\n",
       "    }\n",
       "\n",
       "    .dataframe tbody tr th {\n",
       "        vertical-align: top;\n",
       "    }\n",
       "\n",
       "    .dataframe thead th {\n",
       "        text-align: right;\n",
       "    }\n",
       "</style>\n",
       "<table border=\"1\" class=\"dataframe\">\n",
       "  <thead>\n",
       "    <tr style=\"text-align: right;\">\n",
       "      <th></th>\n",
       "      <th>Name</th>\n",
       "      <th>Age</th>\n",
       "      <th>Marks</th>\n",
       "    </tr>\n",
       "  </thead>\n",
       "  <tbody>\n",
       "    <tr>\n",
       "      <th>2</th>\n",
       "      <td>Shyam</td>\n",
       "      <td>80</td>\n",
       "      <td>Missing</td>\n",
       "    </tr>\n",
       "    <tr>\n",
       "      <th>1</th>\n",
       "      <td>Mohan</td>\n",
       "      <td>Missing</td>\n",
       "      <td>23</td>\n",
       "    </tr>\n",
       "    <tr>\n",
       "      <th>0</th>\n",
       "      <td>Ravi</td>\n",
       "      <td>70</td>\n",
       "      <td>?</td>\n",
       "    </tr>\n",
       "    <tr>\n",
       "      <th>3</th>\n",
       "      <td>Icy</td>\n",
       "      <td>?</td>\n",
       "      <td>21</td>\n",
       "    </tr>\n",
       "  </tbody>\n",
       "</table>\n",
       "</div>"
      ],
      "text/plain": [
       "    Name      Age    Marks\n",
       "2  Shyam       80  Missing\n",
       "1  Mohan  Missing       23\n",
       "0   Ravi       70        ?\n",
       "3    Icy        ?       21"
      ]
     },
     "execution_count": 9,
     "metadata": {},
     "output_type": "execute_result"
    }
   ],
   "source": [
    "df.sample(4)"
   ]
  },
  {
   "cell_type": "code",
   "execution_count": 10,
   "metadata": {},
   "outputs": [
    {
     "data": {
      "text/plain": [
       "(5, 3)"
      ]
     },
     "execution_count": 10,
     "metadata": {},
     "output_type": "execute_result"
    }
   ],
   "source": [
    "df.shape"
   ]
  },
  {
   "cell_type": "code",
   "execution_count": 11,
   "metadata": {},
   "outputs": [
    {
     "name": "stdout",
     "output_type": "stream",
     "text": [
      "<class 'pandas.core.frame.DataFrame'>\n",
      "RangeIndex: 5 entries, 0 to 4\n",
      "Data columns (total 3 columns):\n",
      "Name     5 non-null object\n",
      "Age      5 non-null object\n",
      "Marks    5 non-null object\n",
      "dtypes: object(3)\n",
      "memory usage: 200.0+ bytes\n"
     ]
    }
   ],
   "source": [
    "#General information about data frame\n",
    "df.info()"
   ]
  },
  {
   "cell_type": "code",
   "execution_count": 12,
   "metadata": {},
   "outputs": [
    {
     "name": "stdout",
     "output_type": "stream",
     "text": [
      "     Name      Age    Marks\n",
      "0    Ravi       70        ?\n",
      "1   Mohan  Missing       23\n",
      "2   Shyam       80  Missing\n",
      "3     Icy        ?       21\n",
      "4  Saumya       90       20\n",
      "0   Vivek       23       65\n",
      "1  Akriti       21       78\n"
     ]
    }
   ],
   "source": [
    "#Addition of new Rows\n",
    "df1=pd.DataFrame([[\"Vivek\",23,65],[\"Akriti\",21,78]],columns=['Name','Age','Marks'])\n",
    "df=df.append(df1)\n",
    "print(df)"
   ]
  },
  {
   "cell_type": "code",
   "execution_count": 13,
   "metadata": {},
   "outputs": [
    {
     "name": "stdout",
     "output_type": "stream",
     "text": [
      "     Name      Age    Marks\n",
      "1   Mohan  Missing       23\n",
      "2   Shyam       80  Missing\n",
      "3     Icy        ?       21\n",
      "4  Saumya       90       20\n",
      "1  Akriti       21       78\n"
     ]
    }
   ],
   "source": [
    "#Delete Rows\n",
    "df.drop(0,inplace=True)\n",
    "print(df)"
   ]
  },
  {
   "cell_type": "code",
   "execution_count": 14,
   "metadata": {},
   "outputs": [
    {
     "name": "stdout",
     "output_type": "stream",
     "text": [
      "     Name      Age     City    Marks\n",
      "1   Mohan  Missing  Lucknow       23\n",
      "2   Shyam       80   Mumbai  Missing\n",
      "3     Icy        ?    Delhi       21\n",
      "4  Saumya       90    Delhi       20\n",
      "1  Akriti       21  Lucknow       78\n"
     ]
    }
   ],
   "source": [
    "#Add Column\n",
    "new_data=['Lucknow','Mumbai','Delhi','Delhi','Lucknow']\n",
    "df.insert(2, column='City',value=new_data)\n",
    "print(df)"
   ]
  },
  {
   "cell_type": "code",
   "execution_count": 15,
   "metadata": {},
   "outputs": [
    {
     "name": "stdout",
     "output_type": "stream",
     "text": [
      "     Name      Age    Marks\n",
      "1   Mohan  Missing       23\n",
      "2   Shyam       80  Missing\n",
      "3     Icy        ?       21\n",
      "4  Saumya       90       20\n",
      "1  Akriti       21       78\n"
     ]
    }
   ],
   "source": [
    "#Delete a column\n",
    "del df['City']\n",
    "print(df)"
   ]
  },
  {
   "cell_type": "code",
   "execution_count": 16,
   "metadata": {},
   "outputs": [
    {
     "name": "stdout",
     "output_type": "stream",
     "text": [
      "Name     0\n",
      "Age      0\n",
      "Marks    0\n",
      "dtype: int64\n"
     ]
    }
   ],
   "source": [
    "#it is not showing any nulll data\n",
    "print(df.isnull().sum())"
   ]
  },
  {
   "cell_type": "code",
   "execution_count": 19,
   "metadata": {},
   "outputs": [
    {
     "name": "stdout",
     "output_type": "stream",
     "text": [
      "     Name   Age  Marks\n",
      "0    Ravi  70.0    NaN\n",
      "1   Mohan   NaN   23.0\n",
      "2   Shyam  80.0    NaN\n",
      "3     Icy   NaN   21.0\n",
      "4  Saumya  90.0   20.0\n"
     ]
    }
   ],
   "source": [
    "#Our data may contain any name for null values for ex: missing,?,NULL\n",
    "import pandas as pd\n",
    "df=pd.read_csv(\"D:\\\\Big Data Analytics\\\\Online\\\\03sep.csv\",na_values=['Missing','?'])\n",
    "print(df)"
   ]
  },
  {
   "cell_type": "code",
   "execution_count": 20,
   "metadata": {},
   "outputs": [
    {
     "name": "stdout",
     "output_type": "stream",
     "text": [
      "    Name    Age  Marks\n",
      "0  False  False   True\n",
      "1  False   True  False\n",
      "2  False  False   True\n",
      "3  False   True  False\n",
      "4  False  False  False\n"
     ]
    }
   ],
   "source": [
    "print(df.isnull())"
   ]
  },
  {
   "cell_type": "code",
   "execution_count": 21,
   "metadata": {},
   "outputs": [
    {
     "name": "stdout",
     "output_type": "stream",
     "text": [
      "2\n"
     ]
    }
   ],
   "source": [
    "print(df['Marks'].isnull().sum())"
   ]
  },
  {
   "cell_type": "code",
   "execution_count": 22,
   "metadata": {},
   "outputs": [
    {
     "name": "stdout",
     "output_type": "stream",
     "text": [
      "Name     0\n",
      "Age      2\n",
      "Marks    2\n",
      "dtype: int64\n"
     ]
    }
   ],
   "source": [
    "print(df.isnull().sum())"
   ]
  },
  {
   "cell_type": "code",
   "execution_count": 24,
   "metadata": {},
   "outputs": [
    {
     "name": "stdout",
     "output_type": "stream",
     "text": [
      "     Name   Age  Marks\n",
      "3     Icy   NaN   21.0\n",
      "1   Mohan   NaN   23.0\n",
      "0    Ravi  70.0    NaN\n",
      "4  Saumya  90.0   20.0\n",
      "2   Shyam  80.0    NaN\n"
     ]
    }
   ],
   "source": [
    "df = df.sort_values('Name')\n",
    "print(df)"
   ]
  },
  {
   "cell_type": "code",
   "execution_count": 25,
   "metadata": {},
   "outputs": [
    {
     "name": "stdout",
     "output_type": "stream",
     "text": [
      "     Name   Age  Marks\n",
      "4  Saumya  90.0   20.0\n"
     ]
    }
   ],
   "source": [
    "#Handling Null Values\n",
    "#simple way is to remove rows which contain null values\n",
    "\n",
    "df.dropna(inplace=True)\n",
    "print(df)"
   ]
  },
  {
   "cell_type": "code",
   "execution_count": null,
   "metadata": {},
   "outputs": [],
   "source": [
    "#80% data removed because of NULL value rows removal\n",
    "#absolutely wrong way of handling null value for this example\n",
    "#this can be gud way incase number of rows(samples) is very large and null value rows are very small\n",
    "\n"
   ]
  },
  {
   "cell_type": "code",
   "execution_count": 26,
   "metadata": {},
   "outputs": [
    {
     "name": "stdout",
     "output_type": "stream",
     "text": [
      "     Name\n",
      "0    Ravi\n",
      "1   Mohan\n",
      "2   Shyam\n",
      "3     Icy\n",
      "4  Saumya\n"
     ]
    }
   ],
   "source": [
    "#Handling Null Values\n",
    "#simple way is to remove columns which contain null values\n",
    "import pandas as pd\n",
    "df=pd.read_csv(\"D:\\\\Big Data Analytics\\\\Online\\\\03sep.csv\",na_values=['Missing','?'])\n",
    "\n",
    "df.dropna(axis=1,inplace=True)\n",
    "print(df)"
   ]
  },
  {
   "cell_type": "code",
   "execution_count": 34,
   "metadata": {},
   "outputs": [
    {
     "name": "stdout",
     "output_type": "stream",
     "text": [
      "80.0\n"
     ]
    }
   ],
   "source": [
    "#Handling Null Values\n",
    "#For Numerical Columns\n",
    "#simple way is to fill missing values with mean value\n",
    "import pandas as pd\n",
    "df=pd.read_csv(\"D:\\\\Big Data Analytics\\\\Online\\\\03sep.csv\",na_values=['Missing','?'])\n",
    "m=df['Marks'].mean()\n",
    "print(m)"
   ]
  },
  {
   "cell_type": "code",
   "execution_count": 35,
   "metadata": {},
   "outputs": [
    {
     "name": "stdout",
     "output_type": "stream",
     "text": [
      "     Name  Marks   Age     City\n",
      "0    Ravi   70.0   NaN  Lucknow\n",
      "1   Mohan   80.0  23.0      NaN\n",
      "2   Shyam   80.0   NaN      NaN\n",
      "3     Icy   80.0  21.0    Delhi\n",
      "4  Saumya   90.0  20.0  Lucknow\n"
     ]
    }
   ],
   "source": [
    "#fillna function replaces null value with any value for ex:m in this case\n",
    "df['Marks'].fillna(m,inplace=True)\n",
    "print(df)"
   ]
  },
  {
   "cell_type": "code",
   "execution_count": 36,
   "metadata": {},
   "outputs": [
    {
     "name": "stdout",
     "output_type": "stream",
     "text": [
      "     Name  Marks        Age     City\n",
      "0    Ravi   70.0  21.333333  Lucknow\n",
      "1   Mohan   80.0  23.000000      NaN\n",
      "2   Shyam   80.0  21.333333      NaN\n",
      "3     Icy   80.0  21.000000    Delhi\n",
      "4  Saumya   90.0  20.000000  Lucknow\n"
     ]
    }
   ],
   "source": [
    "m=df['Age'].mean()\n",
    "df['Age'].fillna(m,inplace=True)\n",
    "print(df)"
   ]
  },
  {
   "cell_type": "code",
   "execution_count": 40,
   "metadata": {},
   "outputs": [
    {
     "name": "stdout",
     "output_type": "stream",
     "text": [
      "Lucknow    4\n",
      "Delhi      1\n",
      "Name: City, dtype: int64\n"
     ]
    }
   ],
   "source": [
    "#For Categorical Columns: \n",
    "#Count the occurrence/frequency of each value\n",
    "df['City'].value_counts()\n"
   ]
  },
  {
   "cell_type": "code",
   "execution_count": 39,
   "metadata": {},
   "outputs": [
    {
     "name": "stdout",
     "output_type": "stream",
     "text": [
      "     Name  Marks        Age     City\n",
      "0    Ravi   70.0  21.333333  Lucknow\n",
      "1   Mohan   80.0  23.000000  Lucknow\n",
      "2   Shyam   80.0  21.333333  Lucknow\n",
      "3     Icy   80.0  21.000000    Delhi\n",
      "4  Saumya   90.0  20.000000  Lucknow\n"
     ]
    }
   ],
   "source": [
    "#Whatever has come maximum number of times, we fill nulll data\n",
    "#with that value\n",
    "df['City'].fillna('Lucknow',inplace=True)\n",
    "print(df)"
   ]
  },
  {
   "cell_type": "code",
   "execution_count": 41,
   "metadata": {},
   "outputs": [
    {
     "data": {
      "text/html": [
       "<div>\n",
       "<style scoped>\n",
       "    .dataframe tbody tr th:only-of-type {\n",
       "        vertical-align: middle;\n",
       "    }\n",
       "\n",
       "    .dataframe tbody tr th {\n",
       "        vertical-align: top;\n",
       "    }\n",
       "\n",
       "    .dataframe thead th {\n",
       "        text-align: right;\n",
       "    }\n",
       "</style>\n",
       "<table border=\"1\" class=\"dataframe\">\n",
       "  <thead>\n",
       "    <tr style=\"text-align: right;\">\n",
       "      <th></th>\n",
       "      <th>Marks</th>\n",
       "      <th>Age</th>\n",
       "    </tr>\n",
       "  </thead>\n",
       "  <tbody>\n",
       "    <tr>\n",
       "      <th>count</th>\n",
       "      <td>5.000000</td>\n",
       "      <td>5.000000</td>\n",
       "    </tr>\n",
       "    <tr>\n",
       "      <th>mean</th>\n",
       "      <td>80.000000</td>\n",
       "      <td>21.333333</td>\n",
       "    </tr>\n",
       "    <tr>\n",
       "      <th>std</th>\n",
       "      <td>7.071068</td>\n",
       "      <td>1.080123</td>\n",
       "    </tr>\n",
       "    <tr>\n",
       "      <th>min</th>\n",
       "      <td>70.000000</td>\n",
       "      <td>20.000000</td>\n",
       "    </tr>\n",
       "    <tr>\n",
       "      <th>25%</th>\n",
       "      <td>80.000000</td>\n",
       "      <td>21.000000</td>\n",
       "    </tr>\n",
       "    <tr>\n",
       "      <th>50%</th>\n",
       "      <td>80.000000</td>\n",
       "      <td>21.333333</td>\n",
       "    </tr>\n",
       "    <tr>\n",
       "      <th>75%</th>\n",
       "      <td>80.000000</td>\n",
       "      <td>21.333333</td>\n",
       "    </tr>\n",
       "    <tr>\n",
       "      <th>max</th>\n",
       "      <td>90.000000</td>\n",
       "      <td>23.000000</td>\n",
       "    </tr>\n",
       "  </tbody>\n",
       "</table>\n",
       "</div>"
      ],
      "text/plain": [
       "           Marks        Age\n",
       "count   5.000000   5.000000\n",
       "mean   80.000000  21.333333\n",
       "std     7.071068   1.080123\n",
       "min    70.000000  20.000000\n",
       "25%    80.000000  21.000000\n",
       "50%    80.000000  21.333333\n",
       "75%    80.000000  21.333333\n",
       "max    90.000000  23.000000"
      ]
     },
     "execution_count": 41,
     "metadata": {},
     "output_type": "execute_result"
    }
   ],
   "source": [
    "df.describe()"
   ]
  },
  {
   "cell_type": "code",
   "execution_count": 42,
   "metadata": {},
   "outputs": [
    {
     "name": "stdout",
     "output_type": "stream",
     "text": [
      "   Name  Marks        Age     City\n",
      "0  Ravi   70.0  21.333333  Lucknow\n"
     ]
    }
   ],
   "source": [
    "#similar to that Select operation in SQl\n",
    "#access some data out of entire data frame depending on some condition\n",
    "a=df.loc[df['Name']=='Ravi']\n",
    "print(a)"
   ]
  },
  {
   "cell_type": "code",
   "execution_count": 44,
   "metadata": {},
   "outputs": [
    {
     "name": "stdout",
     "output_type": "stream",
     "text": [
      "     Name  Marks        Age     City\n",
      "0    Ravi   70.0  21.333333  Lucknow\n",
      "1   Mohan   80.0  23.000000  Lucknow\n",
      "2   Shyam   80.0  21.333333  Lucknow\n",
      "4  Saumya   90.0  20.000000  Lucknow\n"
     ]
    }
   ],
   "source": [
    "a=df.loc[df['City']=='Lucknow']\n",
    "print(a)"
   ]
  },
  {
   "cell_type": "code",
   "execution_count": 46,
   "metadata": {},
   "outputs": [
    {
     "name": "stdout",
     "output_type": "stream",
     "text": [
      "         Age     City\n",
      "2  21.333333  Lucknow\n",
      "3  21.000000    Delhi\n",
      "4  20.000000  Lucknow\n"
     ]
    }
   ],
   "source": [
    "print(df.iloc[2:,2:])"
   ]
  },
  {
   "cell_type": "code",
   "execution_count": null,
   "metadata": {},
   "outputs": [],
   "source": []
  }
 ],
 "metadata": {
  "kernelspec": {
   "display_name": "Python 3",
   "language": "python",
   "name": "python3"
  },
  "language_info": {
   "codemirror_mode": {
    "name": "ipython",
    "version": 3
   },
   "file_extension": ".py",
   "mimetype": "text/x-python",
   "name": "python",
   "nbconvert_exporter": "python",
   "pygments_lexer": "ipython3",
   "version": "3.7.3"
  }
 },
 "nbformat": 4,
 "nbformat_minor": 2
}
