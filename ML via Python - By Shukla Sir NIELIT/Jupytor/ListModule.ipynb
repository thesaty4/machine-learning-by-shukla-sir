{
 "cells": [
  {
   "cell_type": "code",
   "execution_count": null,
   "metadata": {},
   "outputs": [],
   "source": [
    "class mylist:\n",
    "    l=[]\n",
    "\n",
    "    def __init__(s,n):\n",
    "        temp=[]\n",
    "        for i in range(n):\n",
    "            x=int(input(\"Enter the data of the list:\"))\n",
    "            temp.append(x)\n",
    "        s.l=temp\n",
    "        \n",
    "    def display(s):\n",
    "        print(s.l)\n",
    "        \n",
    "    def min(s):\n",
    "        min=s.l[0]\n",
    "        for i in s.l:\n",
    "            if(i<min):\n",
    "                min=i\n",
    "        return min\n",
    "\n",
    "    def max(s):\n",
    "        max=s.l[0]\n",
    "        for i in s.l:\n",
    "            if(i>max):\n",
    "                max=i\n",
    "        return max\n",
    "\n",
    "    def interchange(s):\n",
    "        temp=s.l[0]\n",
    "        s.l[0]=s.l[-1] #-1 index means last element\n",
    "        s.l[-1]=temp\n",
    "        return s.l\n",
    "\n",
    "    def average(s):\n",
    "        sum=0\n",
    "        count=0\n",
    "        for i in s.l:\n",
    "            sum=sum+i\n",
    "            count=count+1\n",
    "        mean=sum/count\n",
    "        return mean\n",
    "\n",
    "    def count(s):\n",
    "        count=0\n",
    "        for i in s.l:\n",
    "            count=count+1\n",
    "        return count\n",
    "\n",
    "    def sum(s):\n",
    "        sum=0\n",
    "        for i in s.l:\n",
    "            sum=sum+i\n",
    "        return sum\n",
    "    "
   ]
  }
 ],
 "metadata": {
  "kernelspec": {
   "display_name": "Python 3",
   "language": "python",
   "name": "python3"
  },
  "language_info": {
   "codemirror_mode": {
    "name": "ipython",
    "version": 3
   },
   "file_extension": ".py",
   "mimetype": "text/x-python",
   "name": "python",
   "nbconvert_exporter": "python",
   "pygments_lexer": "ipython3",
   "version": "3.7.3"
  }
 },
 "nbformat": 4,
 "nbformat_minor": 2
}
