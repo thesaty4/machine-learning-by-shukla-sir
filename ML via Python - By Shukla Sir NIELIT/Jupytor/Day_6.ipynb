{
 "cells": [
  {
   "cell_type": "code",
   "execution_count": 2,
   "metadata": {},
   "outputs": [
    {
     "name": "stdout",
     "output_type": "stream",
     "text": [
      "Hello  Ravi\n",
      "30\n",
      "80\n"
     ]
    }
   ],
   "source": [
    "import myfirstmodule\n",
    "myfirstmodule.greeting(\"Ravi\")\n",
    "myfirstmodule.sum(10,20)\n",
    "myfirstmodule.sum(45,35)"
   ]
  },
  {
   "cell_type": "code",
   "execution_count": 3,
   "metadata": {},
   "outputs": [
    {
     "name": "stdout",
     "output_type": "stream",
     "text": [
      "Hello  Ravi\n",
      "30\n",
      "80\n"
     ]
    }
   ],
   "source": [
    "#have small name instead of large name\n",
    "import myfirstmodule as my\n",
    "my.greeting(\"Ravi\")\n",
    "my.sum(10,20)\n",
    "my.sum(45,35)\n"
   ]
  },
  {
   "cell_type": "code",
   "execution_count": 4,
   "metadata": {},
   "outputs": [
    {
     "name": "stdout",
     "output_type": "stream",
     "text": [
      "Hello  Mohan\n"
     ]
    }
   ],
   "source": [
    "my.greeting(\"Mohan\")"
   ]
  },
  {
   "cell_type": "code",
   "execution_count": 5,
   "metadata": {},
   "outputs": [
    {
     "name": "stdout",
     "output_type": "stream",
     "text": [
      "57\n"
     ]
    }
   ],
   "source": [
    "from myfirstmodule import *\n",
    "sum(34,23)"
   ]
  },
  {
   "cell_type": "code",
   "execution_count": 6,
   "metadata": {},
   "outputs": [
    {
     "name": "stdout",
     "output_type": "stream",
     "text": [
      "Hello  Mohan\n"
     ]
    }
   ],
   "source": [
    "greeting(\"Mohan\")"
   ]
  },
  {
   "cell_type": "code",
   "execution_count": 7,
   "metadata": {},
   "outputs": [
    {
     "name": "stdout",
     "output_type": "stream",
     "text": [
      "54\n"
     ]
    }
   ],
   "source": [
    "#you can import just one function from module\n",
    "from myfirstmodule import sum\n",
    "sum(34,20)"
   ]
  },
  {
   "cell_type": "code",
   "execution_count": 8,
   "metadata": {},
   "outputs": [
    {
     "name": "stdout",
     "output_type": "stream",
     "text": [
      "[10 20 30]\n"
     ]
    }
   ],
   "source": [
    "#NUMpy Array\n",
    "import numpy as np\n",
    "a=np.array([10,20,30])\n",
    "print(a)\n"
   ]
  },
  {
   "cell_type": "code",
   "execution_count": 9,
   "metadata": {},
   "outputs": [
    {
     "name": "stdout",
     "output_type": "stream",
     "text": [
      "int32\n"
     ]
    }
   ],
   "source": [
    "print(a.dtype)"
   ]
  },
  {
   "cell_type": "code",
   "execution_count": 10,
   "metadata": {},
   "outputs": [
    {
     "name": "stdout",
     "output_type": "stream",
     "text": [
      "(3,)\n"
     ]
    }
   ],
   "source": [
    "print(a.shape)"
   ]
  },
  {
   "cell_type": "code",
   "execution_count": 11,
   "metadata": {},
   "outputs": [
    {
     "name": "stdout",
     "output_type": "stream",
     "text": [
      "3\n"
     ]
    }
   ],
   "source": [
    "print(a.size)"
   ]
  },
  {
   "cell_type": "code",
   "execution_count": 13,
   "metadata": {},
   "outputs": [
    {
     "name": "stdout",
     "output_type": "stream",
     "text": [
      "[[10 20]\n",
      " [ 3  4]\n",
      " [ 5  6]]\n"
     ]
    }
   ],
   "source": [
    "#Two dimensional Array\n",
    "b=np.array([[10,20],[3,4],[5,6]])\n",
    "print(b)"
   ]
  },
  {
   "cell_type": "code",
   "execution_count": 14,
   "metadata": {},
   "outputs": [
    {
     "name": "stdout",
     "output_type": "stream",
     "text": [
      "(3, 2)\n"
     ]
    }
   ],
   "source": [
    "print(b.shape)"
   ]
  },
  {
   "cell_type": "code",
   "execution_count": 15,
   "metadata": {},
   "outputs": [
    {
     "name": "stdout",
     "output_type": "stream",
     "text": [
      "6\n"
     ]
    }
   ],
   "source": [
    "print(b.size)"
   ]
  },
  {
   "cell_type": "code",
   "execution_count": 16,
   "metadata": {},
   "outputs": [
    {
     "name": "stdout",
     "output_type": "stream",
     "text": [
      "[[10 20  3]\n",
      " [ 4  5  6]]\n"
     ]
    }
   ],
   "source": [
    "#Reshaping any array into any form\n",
    "c=b.reshape(2,3)\n",
    "print(c)"
   ]
  },
  {
   "cell_type": "code",
   "execution_count": 19,
   "metadata": {},
   "outputs": [
    {
     "name": "stdout",
     "output_type": "stream",
     "text": [
      "[[10 20]\n",
      " [ 3  4]\n",
      " [ 5  6]]\n",
      "4\n"
     ]
    }
   ],
   "source": [
    "b=np.array([[10,20],[3,4],[5,6]])\n",
    "print(b)\n",
    "print(b[1,1]) #Slicing"
   ]
  },
  {
   "cell_type": "code",
   "execution_count": 25,
   "metadata": {},
   "outputs": [
    {
     "name": "stdout",
     "output_type": "stream",
     "text": [
      "[[10 20]\n",
      " [ 3 40]\n",
      " [ 5  6]]\n",
      "40\n",
      "[10 40]\n",
      "[20 40  6]\n"
     ]
    }
   ],
   "source": [
    "b=np.array([[10,20],[3,40],[5,6]])\n",
    "print(b)\n",
    "print(b.max())\n",
    "print(b.max(axis=0)) #axis=0 means column wise\n",
    "print(b.max(axis=1)) #axis=1 means row wise"
   ]
  },
  {
   "cell_type": "code",
   "execution_count": 26,
   "metadata": {},
   "outputs": [
    {
     "name": "stdout",
     "output_type": "stream",
     "text": [
      "3\n",
      "[10  3  5]\n"
     ]
    }
   ],
   "source": [
    "print(b.min())\n",
    "print(b.min(axis=1)) #row wise operation"
   ]
  },
  {
   "cell_type": "code",
   "execution_count": 22,
   "metadata": {},
   "outputs": [
    {
     "name": "stdout",
     "output_type": "stream",
     "text": [
      "48\n"
     ]
    }
   ],
   "source": [
    "print(b.sum())"
   ]
  },
  {
   "cell_type": "code",
   "execution_count": 27,
   "metadata": {},
   "outputs": [
    {
     "name": "stdout",
     "output_type": "stream",
     "text": [
      "[[11 22 60]\n",
      " [50 65 64]]\n"
     ]
    }
   ],
   "source": [
    "#Sum of two dimensional arrays\n",
    "a=np.array([[1,2,30],[10,15,4]])\n",
    "b=np.array([[10,20,30],[40,50,60]])\n",
    "print(a+b)"
   ]
  },
  {
   "cell_type": "code",
   "execution_count": 29,
   "metadata": {},
   "outputs": [
    {
     "name": "stdout",
     "output_type": "stream",
     "text": [
      "[[0 0]\n",
      " [0 0]\n",
      " [0 0]]\n"
     ]
    }
   ],
   "source": [
    "a=np.zeros((3,2),dtype=int)\n",
    "print(a)"
   ]
  },
  {
   "cell_type": "code",
   "execution_count": 30,
   "metadata": {},
   "outputs": [
    {
     "name": "stdout",
     "output_type": "stream",
     "text": [
      "[[1 1]\n",
      " [1 1]\n",
      " [1 1]]\n"
     ]
    }
   ],
   "source": [
    "a=np.ones((3,2),dtype=int)\n",
    "print(a)"
   ]
  },
  {
   "cell_type": "code",
   "execution_count": 32,
   "metadata": {},
   "outputs": [
    {
     "name": "stdout",
     "output_type": "stream",
     "text": [
      "[1 2 3 4 5]\n",
      "<class 'numpy.ndarray'>\n"
     ]
    }
   ],
   "source": [
    "#Converting tuple into array\n",
    "i=(1,2,3,4,5)\n",
    "a=np.asarray(i)\n",
    "print(a)\n",
    "print(type(a))"
   ]
  },
  {
   "cell_type": "code",
   "execution_count": 34,
   "metadata": {},
   "outputs": [
    {
     "name": "stdout",
     "output_type": "stream",
     "text": [
      "{'name': 'Ravi', 'city': 'Lucknow', 'College': 'KGMC'}\n",
      "<class 'numpy.ndarray'>\n"
     ]
    }
   ],
   "source": [
    "#convert dictionary in array\n",
    "d={\"name\":\"Ravi\",\"city\":\"Lucknow\",\"College\":\"KGMC\"}\n",
    "a=np.asarray(d)\n",
    "print(a)\n",
    "print(type(a))"
   ]
  },
  {
   "cell_type": "code",
   "execution_count": 35,
   "metadata": {},
   "outputs": [
    {
     "name": "stdout",
     "output_type": "stream",
     "text": [
      "[2 4 6 8]\n"
     ]
    }
   ],
   "source": [
    "#arange(start,stop,step)\n",
    "a=np.arange(2,10,2)\n",
    "print(a)"
   ]
  },
  {
   "cell_type": "code",
   "execution_count": 40,
   "metadata": {},
   "outputs": [
    {
     "name": "stdout",
     "output_type": "stream",
     "text": [
      "1\n",
      "2\n",
      "30\n",
      "10\n",
      "15\n",
      "4\n",
      "sum: 62\n"
     ]
    }
   ],
   "source": [
    "a=np.array([[1,2,30],[10,15,4]])\n",
    "sum=0\n",
    "for x in np.nditer(a):\n",
    "    print(x)\n",
    "    sum=sum+x\n",
    "print(\"sum:\",sum)"
   ]
  },
  {
   "cell_type": "code",
   "execution_count": 41,
   "metadata": {},
   "outputs": [
    {
     "name": "stdout",
     "output_type": "stream",
     "text": [
      "[[ 1  2 30]\n",
      " [10 15  4]]\n",
      "1\n",
      "10\n",
      "2\n",
      "15\n",
      "30\n",
      "4\n"
     ]
    }
   ],
   "source": [
    "#When Order is F(Fortran like), It means column-wise data will be read\n",
    "a=np.array([[1,2,30],[10,15,4]])\n",
    "print(a)\n",
    "for x in np.nditer(a,order='F'):\n",
    "    print(x)\n"
   ]
  },
  {
   "cell_type": "code",
   "execution_count": 42,
   "metadata": {},
   "outputs": [
    {
     "name": "stdout",
     "output_type": "stream",
     "text": [
      "[[ 1  2 30]\n",
      " [10 15  4]]\n",
      "1\n",
      "2\n",
      "30\n",
      "10\n",
      "15\n",
      "4\n"
     ]
    }
   ],
   "source": [
    "#When Order is C(C language like), It means row-wise data will be read\n",
    "a=np.array([[1,2,30],[10,15,4]])\n",
    "print(a)\n",
    "for x in np.nditer(a,order='C'):\n",
    "    print(x)\n"
   ]
  },
  {
   "cell_type": "code",
   "execution_count": 43,
   "metadata": {},
   "outputs": [
    {
     "name": "stdout",
     "output_type": "stream",
     "text": [
      "[[ 1.23  2.68 30.46]\n",
      " [10.23 56.   73.34]]\n"
     ]
    }
   ],
   "source": [
    "a=np.array([[1.234,2.678,30.456],[10.234,56,73.34]])\n",
    "print(np.around(a,2))"
   ]
  },
  {
   "cell_type": "code",
   "execution_count": 44,
   "metadata": {},
   "outputs": [
    {
     "name": "stdout",
     "output_type": "stream",
     "text": [
      "[[ 1  2 30]\n",
      " [ 4 10 15]\n",
      " [40 50 90]]\n"
     ]
    }
   ],
   "source": [
    "#Sorting row wise\n",
    "a=np.array([[1,2,30],[10,15,4],[50,40,90]])\n",
    "print(np.sort(a))"
   ]
  },
  {
   "cell_type": "code",
   "execution_count": 45,
   "metadata": {},
   "outputs": [
    {
     "name": "stdout",
     "output_type": "stream",
     "text": [
      "[[ 1  2  4]\n",
      " [10 15 30]\n",
      " [50 40 90]]\n"
     ]
    }
   ],
   "source": [
    "#Sorting column wise\n",
    "a=np.array([[1,2,30],[10,15,4],[50,40,90]])\n",
    "print(np.sort(a,0))"
   ]
  },
  {
   "cell_type": "code",
   "execution_count": 47,
   "metadata": {},
   "outputs": [
    {
     "name": "stdout",
     "output_type": "stream",
     "text": [
      "[  2 900  20]\n",
      "[  2 900  20]\n"
     ]
    }
   ],
   "source": [
    "ap=np.array([2,45,20])\n",
    "ar=ap # when you copy an array, it is just referenced...no physical copy is made\n",
    "ar[1]=900\n",
    "print(ar)\n",
    "print(ap)\n"
   ]
  },
  {
   "cell_type": "code",
   "execution_count": null,
   "metadata": {},
   "outputs": [],
   "source": []
  }
 ],
 "metadata": {
  "kernelspec": {
   "display_name": "Python 3",
   "language": "python",
   "name": "python3"
  },
  "language_info": {
   "codemirror_mode": {
    "name": "ipython",
    "version": 3
   },
   "file_extension": ".py",
   "mimetype": "text/x-python",
   "name": "python",
   "nbconvert_exporter": "python",
   "pygments_lexer": "ipython3",
   "version": "3.7.3"
  }
 },
 "nbformat": 4,
 "nbformat_minor": 2
}
