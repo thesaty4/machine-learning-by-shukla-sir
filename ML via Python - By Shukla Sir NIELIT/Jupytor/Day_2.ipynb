{
 "cells": [
  {
   "cell_type": "code",
   "execution_count": 1,
   "metadata": {},
   "outputs": [
    {
     "name": "stdout",
     "output_type": "stream",
     "text": [
      "5\n"
     ]
    }
   ],
   "source": [
    "x=5\n",
    "print(x)"
   ]
  },
  {
   "cell_type": "code",
   "execution_count": 2,
   "metadata": {},
   "outputs": [
    {
     "name": "stdout",
     "output_type": "stream",
     "text": [
      "15\n"
     ]
    }
   ],
   "source": [
    "y=10\n",
    "z=x+y\n",
    "print(z)"
   ]
  },
  {
   "cell_type": "code",
   "execution_count": 3,
   "metadata": {},
   "outputs": [
    {
     "name": "stdout",
     "output_type": "stream",
     "text": [
      "Ravi\n"
     ]
    }
   ],
   "source": [
    "x=\"Ravi\"\n",
    "print(x)"
   ]
  },
  {
   "cell_type": "code",
   "execution_count": 4,
   "metadata": {},
   "outputs": [
    {
     "name": "stdout",
     "output_type": "stream",
     "text": [
      "NIELIT\n"
     ]
    }
   ],
   "source": [
    "print(\"NIELIT\")"
   ]
  },
  {
   "cell_type": "code",
   "execution_count": 5,
   "metadata": {},
   "outputs": [
    {
     "name": "stdout",
     "output_type": "stream",
     "text": [
      "34\n"
     ]
    }
   ],
   "source": [
    "a=input()"
   ]
  },
  {
   "cell_type": "code",
   "execution_count": 6,
   "metadata": {},
   "outputs": [
    {
     "name": "stdout",
     "output_type": "stream",
     "text": [
      "23\n",
      "34\n",
      "2334\n"
     ]
    }
   ],
   "source": [
    "# Comment: Sum of two numbers: oops....it does not do the job\n",
    "a=input() \n",
    "b=input()\n",
    "sum=a+b\n",
    "print(sum)\n",
    "# Why? Because python by default takes input as string\n",
    "# Therefore output is concatenation"
   ]
  },
  {
   "cell_type": "code",
   "execution_count": 8,
   "metadata": {},
   "outputs": [
    {
     "name": "stdout",
     "output_type": "stream",
     "text": [
      "34\n",
      "56\n",
      "90\n"
     ]
    }
   ],
   "source": [
    "#Type Casting: Convert String into integer\n",
    "a=int(input()) \n",
    "b=int(input())\n",
    "sum=a+b\n",
    "print(sum)"
   ]
  },
  {
   "cell_type": "code",
   "execution_count": 9,
   "metadata": {},
   "outputs": [
    {
     "name": "stdout",
     "output_type": "stream",
     "text": [
      "Enter First Number12\n",
      "Enter Second Number34\n",
      "46\n"
     ]
    }
   ],
   "source": [
    "a=int(input(\"Enter First Number\")) \n",
    "b=int(input(\"Enter Second Number\"))\n",
    "sum=a+b\n",
    "print(sum)"
   ]
  },
  {
   "cell_type": "code",
   "execution_count": 10,
   "metadata": {},
   "outputs": [
    {
     "name": "stdout",
     "output_type": "stream",
     "text": [
      "Enter First Number10\n",
      "Enter Second Number20\n",
      "Sum of a and b is: 30\n"
     ]
    }
   ],
   "source": [
    "#Addition of Two Integer Numbers\n",
    "a=int(input(\"Enter First Number\")) \n",
    "b=int(input(\"Enter Second Number\"))\n",
    "sum=a+b\n",
    "print(\"Sum of a and b is:\",sum)"
   ]
  },
  {
   "cell_type": "code",
   "execution_count": 11,
   "metadata": {},
   "outputs": [
    {
     "name": "stdout",
     "output_type": "stream",
     "text": [
      "Enter First Number2.1\n",
      "Enter Second Number3.4\n",
      "Sum of a and b is: 5.5\n"
     ]
    }
   ],
   "source": [
    "#Addition of Two Numbers\n",
    "a=float(input(\"Enter First Number\")) \n",
    "b=float(input(\"Enter Second Number\"))\n",
    "sum=a+b\n",
    "print(\"Sum of a and b is:\",sum)"
   ]
  },
  {
   "cell_type": "code",
   "execution_count": 16,
   "metadata": {},
   "outputs": [],
   "source": [
    "a=33\n",
    "b=29\n",
    "if(b>a):\n",
    "    print(\"b is greater than a\")"
   ]
  },
  {
   "cell_type": "code",
   "execution_count": 20,
   "metadata": {},
   "outputs": [
    {
     "name": "stdout",
     "output_type": "stream",
     "text": [
      "b is less than a or b is equal to a\n"
     ]
    }
   ],
   "source": [
    "# Conditional Statement\n",
    "a=33\n",
    "b=33\n",
    "if(b>a):\n",
    "    print(\"b is greater than a\")\n",
    "else:\n",
    "    print(\"b is less than a or b is equal to a\")"
   ]
  },
  {
   "cell_type": "code",
   "execution_count": 22,
   "metadata": {},
   "outputs": [
    {
     "name": "stdout",
     "output_type": "stream",
     "text": [
      "b is less than a\n"
     ]
    }
   ],
   "source": [
    "a=34\n",
    "b=33\n",
    "if(b>a):\n",
    "    print(\"b is greater than a\")\n",
    "elif(a==b):\n",
    "    print(\"b is equal to a\")\n",
    "else:\n",
    "    print(\"b is less than a\")"
   ]
  },
  {
   "cell_type": "code",
   "execution_count": 23,
   "metadata": {},
   "outputs": [
    {
     "name": "stdout",
     "output_type": "stream",
     "text": [
      "Enter First Number34.56\n",
      "Enter Second Number23.45\n",
      "b is less than a\n"
     ]
    }
   ],
   "source": [
    "#Comparing two Numbers: used conditional statements of python\n",
    "a=float(input(\"Enter First Number a\")) \n",
    "b=float(input(\"Enter Second Number b\"))\n",
    "if(b>a):\n",
    "    print(\"b is greater than a\")\n",
    "elif(a==b):\n",
    "    print(\"b is equal to a\")\n",
    "else:\n",
    "    print(\"b is less than a\")"
   ]
  },
  {
   "cell_type": "code",
   "execution_count": 24,
   "metadata": {},
   "outputs": [
    {
     "name": "stdout",
     "output_type": "stream",
     "text": [
      "Hello World!\n"
     ]
    }
   ],
   "source": [
    "a=\"Hello World!\"\n",
    "print(a)"
   ]
  },
  {
   "cell_type": "code",
   "execution_count": 28,
   "metadata": {},
   "outputs": [
    {
     "name": "stdout",
     "output_type": "stream",
     "text": [
      "e\n"
     ]
    }
   ],
   "source": [
    "print(a[1])"
   ]
  },
  {
   "cell_type": "code",
   "execution_count": 30,
   "metadata": {},
   "outputs": [
    {
     "name": "stdout",
     "output_type": "stream",
     "text": [
      "or\n"
     ]
    }
   ],
   "source": [
    "x=a[4]+a[8]\n",
    "print(x)"
   ]
  },
  {
   "cell_type": "code",
   "execution_count": 31,
   "metadata": {},
   "outputs": [
    {
     "name": "stdout",
     "output_type": "stream",
     "text": [
      "llo Wo\n"
     ]
    }
   ],
   "source": [
    "#range of index can be given like start:end\n",
    "a=\"Hello World!\"\n",
    "print(a[2:8]) # Start at 2 and end at 8-1=7"
   ]
  },
  {
   "cell_type": "code",
   "execution_count": 34,
   "metadata": {},
   "outputs": [
    {
     "name": "stdout",
     "output_type": "stream",
     "text": [
      " Hello World!\n",
      "Hello World!\n"
     ]
    }
   ],
   "source": [
    "a=\" Hello World!\"\n",
    "b=a.strip()\n",
    "print(a)\n",
    "print(b)"
   ]
  },
  {
   "cell_type": "code",
   "execution_count": 36,
   "metadata": {},
   "outputs": [
    {
     "name": "stdout",
     "output_type": "stream",
     "text": [
      "hello world!\n"
     ]
    }
   ],
   "source": [
    "a=\"Hello World!\"\n",
    "b=a.lower()\n",
    "print(b)"
   ]
  },
  {
   "cell_type": "code",
   "execution_count": 37,
   "metadata": {},
   "outputs": [
    {
     "name": "stdout",
     "output_type": "stream",
     "text": [
      "hello world!\n"
     ]
    }
   ],
   "source": [
    "a=\"Hello World!\"\n",
    "print(a.lower())"
   ]
  },
  {
   "cell_type": "code",
   "execution_count": 38,
   "metadata": {},
   "outputs": [
    {
     "name": "stdout",
     "output_type": "stream",
     "text": [
      "HELLO WORLD!\n"
     ]
    }
   ],
   "source": [
    "a=\"Hello World!\"\n",
    "print(a.upper())"
   ]
  },
  {
   "cell_type": "code",
   "execution_count": 39,
   "metadata": {},
   "outputs": [
    {
     "name": "stdout",
     "output_type": "stream",
     "text": [
      "Jello World!\n"
     ]
    }
   ],
   "source": [
    "a=\"Hello World!\"\n",
    "b=a.replace(\"H\",\"J\")\n",
    "print(b)"
   ]
  },
  {
   "cell_type": "code",
   "execution_count": 40,
   "metadata": {},
   "outputs": [
    {
     "name": "stdout",
     "output_type": "stream",
     "text": [
      "['Hello', ' World!']\n"
     ]
    }
   ],
   "source": [
    "a=\"Hello, World!\"\n",
    "b=a.split(\",\")\n",
    "print(b)"
   ]
  },
  {
   "cell_type": "code",
   "execution_count": 42,
   "metadata": {},
   "outputs": [
    {
     "name": "stdout",
     "output_type": "stream",
     "text": [
      " World!\n"
     ]
    }
   ],
   "source": [
    "x=b[1]\n",
    "print(x)"
   ]
  },
  {
   "cell_type": "code",
   "execution_count": 43,
   "metadata": {},
   "outputs": [
    {
     "name": "stdout",
     "output_type": "stream",
     "text": [
      "C:\n",
      "ature\n"
     ]
    }
   ],
   "source": [
    "#I want to print C:\\nature on the screen\n",
    "print(\"C:\\nature\")\n",
    "#oops: not printed as desired.....bcoz \\n is special character which \n",
    "# does a specific job"
   ]
  },
  {
   "cell_type": "code",
   "execution_count": 44,
   "metadata": {},
   "outputs": [
    {
     "name": "stdout",
     "output_type": "stream",
     "text": [
      "C:\\nature\n"
     ]
    }
   ],
   "source": [
    "#I want to print C:\\nature on the screen\n",
    "print(\"C:\\\\nature\")\n",
    "#done why? because I put one \\ as escape character"
   ]
  },
  {
   "cell_type": "code",
   "execution_count": 45,
   "metadata": {},
   "outputs": [
    {
     "name": "stdout",
     "output_type": "stream",
     "text": [
      "Hello, World!Hello, World!Hello, World!\n"
     ]
    }
   ],
   "source": [
    "a=\"Hello, World!\"\n",
    "b=a*3 # Repeat the same string a 3 times\n",
    "print(b)"
   ]
  },
  {
   "cell_type": "code",
   "execution_count": 47,
   "metadata": {},
   "outputs": [
    {
     "name": "stdout",
     "output_type": "stream",
     "text": [
      "Vijay is 20 Years old \n"
     ]
    }
   ],
   "source": [
    "# Formatting of Printed output\n",
    "name=\"Vijay\"\n",
    "age=20\n",
    "# Print \"Ravi(name) is 20(age) Years old\"\n",
    "print(\"%s is %d Years old \" %(name,age))\n"
   ]
  },
  {
   "cell_type": "code",
   "execution_count": 49,
   "metadata": {},
   "outputs": [
    {
     "name": "stdout",
     "output_type": "stream",
     "text": [
      "['apple', 'banana', 'cherry']\n"
     ]
    }
   ],
   "source": [
    "# What is a List \n",
    "# Creating a List: Containing list of data\n",
    "a=[\"apple\", \"banana\", \"cherry\"]\n",
    "print(a)"
   ]
  },
  {
   "cell_type": "code",
   "execution_count": 51,
   "metadata": {},
   "outputs": [
    {
     "name": "stdout",
     "output_type": "stream",
     "text": [
      "cherry\n"
     ]
    }
   ],
   "source": [
    "# Accessing data from the list using index\n",
    "print(a[2])"
   ]
  },
  {
   "cell_type": "code",
   "execution_count": 52,
   "metadata": {},
   "outputs": [
    {
     "name": "stdout",
     "output_type": "stream",
     "text": [
      "cJerry\n"
     ]
    }
   ],
   "source": [
    "#once you accessed it, a[2] is a string. You can perform any operation on it\n",
    "# whatever can be done with a string variable\n",
    "\n",
    "b=a[2].replace(\"h\",\"J\")\n",
    "print(b)"
   ]
  },
  {
   "cell_type": "code",
   "execution_count": 53,
   "metadata": {},
   "outputs": [
    {
     "name": "stdout",
     "output_type": "stream",
     "text": [
      "['apple', 'banana', 'orange']\n"
     ]
    }
   ],
   "source": [
    "#replacing a data in list\n",
    "a[2]=\"orange\"\n",
    "print(a)"
   ]
  },
  {
   "cell_type": "code",
   "execution_count": 55,
   "metadata": {},
   "outputs": [
    {
     "name": "stdout",
     "output_type": "stream",
     "text": [
      "What to search:orange\n",
      "No, a is not in list\n"
     ]
    }
   ],
   "source": [
    "#Checking Item in the list\n",
    "list=[\"apple\", \"banana\", \"cherry\"]\n",
    "a=input(\"What to search:\")\n",
    "if a in list:\n",
    "    print(\"yes, a is in list\")\n",
    "else:\n",
    "    print(\"No, a is not in list\")"
   ]
  },
  {
   "cell_type": "code",
   "execution_count": 56,
   "metadata": {},
   "outputs": [
    {
     "name": "stdout",
     "output_type": "stream",
     "text": [
      "3\n"
     ]
    }
   ],
   "source": [
    "print(len(list))"
   ]
  },
  {
   "cell_type": "code",
   "execution_count": 57,
   "metadata": {},
   "outputs": [
    {
     "name": "stdout",
     "output_type": "stream",
     "text": [
      "['apple', 'banana', 'cherry', 'orange']\n"
     ]
    }
   ],
   "source": [
    "list=[\"apple\", \"banana\", \"cherry\"]\n",
    "list.append(\"orange\")\n",
    "print(list)"
   ]
  },
  {
   "cell_type": "code",
   "execution_count": 58,
   "metadata": {},
   "outputs": [
    {
     "name": "stdout",
     "output_type": "stream",
     "text": [
      "[1, 5, 8, 12]\n"
     ]
    }
   ],
   "source": [
    "#Any kind of data can be in the list for ex: String, Float etc.\n",
    "list=[1,5,8,12]\n",
    "print(list)"
   ]
  },
  {
   "cell_type": "code",
   "execution_count": 59,
   "metadata": {},
   "outputs": [
    {
     "name": "stdout",
     "output_type": "stream",
     "text": [
      "[1, 5, 12]\n"
     ]
    }
   ],
   "source": [
    "# Remove function\n",
    "list.remove(8)\n",
    "print(list)"
   ]
  },
  {
   "cell_type": "code",
   "execution_count": 60,
   "metadata": {},
   "outputs": [
    {
     "name": "stdout",
     "output_type": "stream",
     "text": [
      "[1, 5]\n"
     ]
    }
   ],
   "source": [
    "#pop function deletes last data from the list\n",
    "list.pop()\n",
    "print(list)"
   ]
  },
  {
   "cell_type": "code",
   "execution_count": 61,
   "metadata": {},
   "outputs": [
    {
     "name": "stdout",
     "output_type": "stream",
     "text": [
      "apple\n",
      "banana\n",
      "cherry\n"
     ]
    }
   ],
   "source": [
    "#Looping through each item of list\n",
    "list=[\"apple\", \"banana\", \"cherry\"]\n",
    "for x in list:\n",
    "    print(x) # will be executed 3 times bcoz there are 3 items in list\n",
    "\n",
    "    "
   ]
  },
  {
   "cell_type": "code",
   "execution_count": 64,
   "metadata": {},
   "outputs": [
    {
     "name": "stdout",
     "output_type": "stream",
     "text": [
      "Sum: 150\n"
     ]
    }
   ],
   "source": [
    "a=[10,20,30,40,50]\n",
    "# sum of all items of the list\n",
    "sum=0\n",
    "for i in a:\n",
    "    sum=sum+i\n",
    "print(\"Sum:\",sum)"
   ]
  },
  {
   "cell_type": "code",
   "execution_count": 66,
   "metadata": {},
   "outputs": [
    {
     "name": "stdout",
     "output_type": "stream",
     "text": [
      "[2, 4, 5, 7, 9, 10]\n"
     ]
    }
   ],
   "source": [
    "a=[2,4,5]\n",
    "b=[7,9,10]\n",
    "a.extend(b)\n",
    "print(a)"
   ]
  },
  {
   "cell_type": "code",
   "execution_count": 67,
   "metadata": {},
   "outputs": [
    {
     "name": "stdout",
     "output_type": "stream",
     "text": [
      "[]\n"
     ]
    }
   ],
   "source": [
    "a.clear()\n",
    "print(a)"
   ]
  },
  {
   "cell_type": "code",
   "execution_count": 69,
   "metadata": {},
   "outputs": [
    {
     "name": "stdout",
     "output_type": "stream",
     "text": [
      "[2, 5, 7, 8]\n"
     ]
    }
   ],
   "source": [
    "a=[2,4,5,7,8]\n",
    "del a[1]\n",
    "print(a)"
   ]
  },
  {
   "cell_type": "code",
   "execution_count": 72,
   "metadata": {},
   "outputs": [
    {
     "name": "stdout",
     "output_type": "stream",
     "text": [
      "[8, 7, 5, 2]\n"
     ]
    }
   ],
   "source": [
    "a.reverse()\n",
    "print(a)"
   ]
  },
  {
   "cell_type": "code",
   "execution_count": 73,
   "metadata": {},
   "outputs": [
    {
     "name": "stdout",
     "output_type": "stream",
     "text": [
      "[2, 5, 7, 8]\n"
     ]
    }
   ],
   "source": [
    "a.sort()\n",
    "print(a)"
   ]
  },
  {
   "cell_type": "code",
   "execution_count": 74,
   "metadata": {},
   "outputs": [
    {
     "name": "stdout",
     "output_type": "stream",
     "text": [
      "['BMW', 'Ford', 'Volvo']\n"
     ]
    }
   ],
   "source": [
    "cars=[\"Ford\",\"BMW\",\"Volvo\"]\n",
    "cars.sort()\n",
    "print(cars)"
   ]
  },
  {
   "cell_type": "code",
   "execution_count": 75,
   "metadata": {},
   "outputs": [
    {
     "name": "stdout",
     "output_type": "stream",
     "text": [
      "['Volvo', 'Ford', 'BMW']\n"
     ]
    }
   ],
   "source": [
    "cars=[\"Ford\",\"BMW\",\"Volvo\"]\n",
    "cars.sort(reverse=True)\n",
    "print(cars)"
   ]
  },
  {
   "cell_type": "code",
   "execution_count": 77,
   "metadata": {},
   "outputs": [
    {
     "name": "stdout",
     "output_type": "stream",
     "text": [
      "2\n"
     ]
    }
   ],
   "source": [
    "a=cars.index(\"BMW\")\n",
    "print(a)"
   ]
  },
  {
   "cell_type": "code",
   "execution_count": 78,
   "metadata": {},
   "outputs": [
    {
     "name": "stdout",
     "output_type": "stream",
     "text": [
      "12\n"
     ]
    }
   ],
   "source": [
    "a=[23,12,34]\n",
    "print(min(a))"
   ]
  },
  {
   "cell_type": "code",
   "execution_count": 79,
   "metadata": {},
   "outputs": [
    {
     "name": "stdout",
     "output_type": "stream",
     "text": [
      "['Ravi', 34, 45]\n"
     ]
    }
   ],
   "source": [
    "x=[\"Ravi\", 34, 45]\n",
    "print(x)"
   ]
  },
  {
   "cell_type": "code",
   "execution_count": 80,
   "metadata": {},
   "outputs": [
    {
     "name": "stdout",
     "output_type": "stream",
     "text": [
      "[['Ravi', 34, 45], 'Shalini', 45, 56]\n"
     ]
    }
   ],
   "source": [
    "#List within a list\n",
    "x=[[\"Ravi\", 34, 45], \"Shalini\", 45, 56]\n",
    "print(x)"
   ]
  },
  {
   "cell_type": "code",
   "execution_count": 81,
   "metadata": {},
   "outputs": [
    {
     "name": "stdout",
     "output_type": "stream",
     "text": [
      "['Ravi', 34, 45]\n"
     ]
    }
   ],
   "source": [
    "print(x[0])"
   ]
  },
  {
   "cell_type": "code",
   "execution_count": 82,
   "metadata": {},
   "outputs": [
    {
     "name": "stdout",
     "output_type": "stream",
     "text": [
      "['Ravi', 34, 45]\n"
     ]
    }
   ],
   "source": [
    "a=x[0]\n",
    "print(a)"
   ]
  },
  {
   "cell_type": "code",
   "execution_count": 83,
   "metadata": {},
   "outputs": [
    {
     "name": "stdout",
     "output_type": "stream",
     "text": [
      "34\n"
     ]
    }
   ],
   "source": [
    "print(a[1])"
   ]
  },
  {
   "cell_type": "code",
   "execution_count": 86,
   "metadata": {},
   "outputs": [
    {
     "name": "stdout",
     "output_type": "stream",
     "text": [
      "Ravi\n"
     ]
    }
   ],
   "source": [
    "print(x[0][0])"
   ]
  },
  {
   "cell_type": "code",
   "execution_count": 87,
   "metadata": {},
   "outputs": [
    {
     "name": "stdout",
     "output_type": "stream",
     "text": [
      "Roll Number: 123 Marks: 98\n",
      "Roll Number: 321 Marks: 45\n",
      "Roll Number: 567 Marks: 34\n",
      "Roll Number: 678 Marks: 23\n",
      "Roll Number: 987 Marks: 67\n"
     ]
    }
   ],
   "source": [
    "#Loop Over Multiple List\n",
    "Rno=[123,321,567,678,987]\n",
    "Marks=[98,45,34,23,67]\n",
    "for r,m in zip(Rno,Marks):\n",
    "    print(\"Roll Number:\", r, \"Marks:\", m)"
   ]
  },
  {
   "cell_type": "code",
   "execution_count": 88,
   "metadata": {},
   "outputs": [
    {
     "name": "stdout",
     "output_type": "stream",
     "text": [
      "{'brand': 'Maruti', 'model': 'Zen', 'year': 2001}\n"
     ]
    }
   ],
   "source": [
    "# Dictionary: Key value pair\n",
    "#for example in English Dictionary, the word you serach is key and meaning\n",
    "# is value\n",
    "d={\"brand\":\"Maruti\",\"model\":\"Zen\",\"year\":2001}\n",
    "print(d)\n"
   ]
  },
  {
   "cell_type": "code",
   "execution_count": 89,
   "metadata": {},
   "outputs": [
    {
     "name": "stdout",
     "output_type": "stream",
     "text": [
      "{'brand': 'Maruti', 'model': 'Zen', 'year': [2001, 2004, 2006]}\n"
     ]
    }
   ],
   "source": [
    "d={\"brand\":\"Maruti\",\"model\":\"Zen\",\"year\":[2001,2004,2006]}\n",
    "print(d)"
   ]
  },
  {
   "cell_type": "code",
   "execution_count": 92,
   "metadata": {},
   "outputs": [
    {
     "name": "stdout",
     "output_type": "stream",
     "text": [
      "Maruti\n"
     ]
    }
   ],
   "source": [
    "print(d[\"brand\"])"
   ]
  },
  {
   "cell_type": "code",
   "execution_count": 93,
   "metadata": {},
   "outputs": [
    {
     "name": "stdout",
     "output_type": "stream",
     "text": [
      "{'brand': 'Honda', 'model': 'Zen', 'year': [2001, 2004, 2006]}\n"
     ]
    }
   ],
   "source": [
    "d[\"brand\"]=\"Honda\"\n",
    "print(d)"
   ]
  },
  {
   "cell_type": "code",
   "execution_count": 94,
   "metadata": {},
   "outputs": [
    {
     "name": "stdout",
     "output_type": "stream",
     "text": [
      "{'brand': 'Maruti', 'model': 'Zen', 'year': 2011}\n"
     ]
    }
   ],
   "source": [
    "d={\"brand\":\"Maruti\",\"model\":\"Zen\",\"year\":2001}\n",
    "d[\"year\"]=d[\"year\"]+10\n",
    "print(d)"
   ]
  },
  {
   "cell_type": "code",
   "execution_count": 96,
   "metadata": {},
   "outputs": [
    {
     "name": "stdout",
     "output_type": "stream",
     "text": [
      "brand\n",
      "Maruti\n",
      "model\n",
      "Zen\n",
      "year\n",
      "2011\n"
     ]
    }
   ],
   "source": [
    "#when you run for loop on dictionary , you get keys of the dictionary\n",
    "#one by one\n",
    "for x in d:\n",
    "    print(x)\n",
    "    print(d[x])"
   ]
  },
  {
   "cell_type": "code",
   "execution_count": 97,
   "metadata": {},
   "outputs": [
    {
     "name": "stdout",
     "output_type": "stream",
     "text": [
      "{'brand': 'Maruti', 'model': 'Zen', 'year': 2001, 'Owner': 'Ravi'}\n"
     ]
    }
   ],
   "source": [
    "#if key does not exist in dict, then new data will be added in dict\n",
    "d={\"brand\":\"Maruti\",\"model\":\"Zen\",\"year\":2001}\n",
    "d[\"Owner\"]=\"Ravi\"\n",
    "print(d)"
   ]
  },
  {
   "cell_type": "code",
   "execution_count": 98,
   "metadata": {},
   "outputs": [
    {
     "name": "stdout",
     "output_type": "stream",
     "text": [
      "dict_keys(['brand', 'model', 'year', 'Owner'])\n"
     ]
    }
   ],
   "source": [
    "x=d.keys()\n",
    "print(x)"
   ]
  },
  {
   "cell_type": "code",
   "execution_count": null,
   "metadata": {},
   "outputs": [],
   "source": []
  }
 ],
 "metadata": {
  "kernelspec": {
   "display_name": "Python 3",
   "language": "python",
   "name": "python3"
  },
  "language_info": {
   "codemirror_mode": {
    "name": "ipython",
    "version": 3
   },
   "file_extension": ".py",
   "mimetype": "text/x-python",
   "name": "python",
   "nbconvert_exporter": "python",
   "pygments_lexer": "ipython3",
   "version": "3.7.3"
  }
 },
 "nbformat": 4,
 "nbformat_minor": 2
}
