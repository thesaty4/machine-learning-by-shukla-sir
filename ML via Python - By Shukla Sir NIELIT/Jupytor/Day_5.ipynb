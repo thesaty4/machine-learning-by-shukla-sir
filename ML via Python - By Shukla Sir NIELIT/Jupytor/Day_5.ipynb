{
 "cells": [
  {
   "cell_type": "code",
   "execution_count": 13,
   "metadata": {},
   "outputs": [
    {
     "name": "stdout",
     "output_type": "stream",
     "text": [
      "2021\n",
      "Ravi\n"
     ]
    }
   ],
   "source": [
    "#Class\n",
    "class student:\n",
    "    Reg_id=0\n",
    "    name=\"\"\n",
    "    \n",
    "    def display(s): # s is self referencing object, it means m is s\n",
    "        print(s.Reg_id)\n",
    "        print(s.name)\n",
    "#m is a object of student class\n",
    "m=student()\n",
    "m.Reg_id=2021\n",
    "m.name=\"Ravi\"\n",
    "m.display()\n",
    "# first argument in a method in a class will always be self i.e. s in this case\n",
    "#object itself becomes first argument in a method inside a class"
   ]
  },
  {
   "cell_type": "code",
   "execution_count": 14,
   "metadata": {},
   "outputs": [
    {
     "name": "stdout",
     "output_type": "stream",
     "text": [
      "2021\n",
      "Ravi\n"
     ]
    }
   ],
   "source": [
    "#Class\n",
    "class student:\n",
    "    Reg_id=0\n",
    "    name=\"\"\n",
    "    \n",
    "    def display(this): \n",
    "        print(this.Reg_id)\n",
    "        print(this.name)\n",
    "\n",
    "m1=student()\n",
    "m1.Reg_id=2021\n",
    "m1.name=\"Ravi\"\n",
    "m2=student()\n",
    "m2.Reg_id=2022\n",
    "m2.name=\"Shweta\"\n",
    "m1.display()\n",
    "del m1"
   ]
  },
  {
   "cell_type": "code",
   "execution_count": 15,
   "metadata": {},
   "outputs": [
    {
     "ename": "NameError",
     "evalue": "name 'm1' is not defined",
     "output_type": "error",
     "traceback": [
      "\u001b[1;31m---------------------------------------------------------------------------\u001b[0m",
      "\u001b[1;31mNameError\u001b[0m                                 Traceback (most recent call last)",
      "\u001b[1;32m<ipython-input-15-7b169519dd86>\u001b[0m in \u001b[0;36m<module>\u001b[1;34m\u001b[0m\n\u001b[1;32m----> 1\u001b[1;33m \u001b[0mm1\u001b[0m\u001b[1;33m.\u001b[0m\u001b[0mdisplay\u001b[0m\u001b[1;33m(\u001b[0m\u001b[1;33m)\u001b[0m\u001b[1;33m\u001b[0m\u001b[1;33m\u001b[0m\u001b[0m\n\u001b[0m",
      "\u001b[1;31mNameError\u001b[0m: name 'm1' is not defined"
     ]
    }
   ],
   "source": [
    "m1.display()"
   ]
  },
  {
   "cell_type": "code",
   "execution_count": 5,
   "metadata": {},
   "outputs": [
    {
     "name": "stdout",
     "output_type": "stream",
     "text": [
      "2022\n",
      "Shweta\n"
     ]
    }
   ],
   "source": [
    "m2.display()"
   ]
  },
  {
   "cell_type": "code",
   "execution_count": 17,
   "metadata": {},
   "outputs": [
    {
     "name": "stdout",
     "output_type": "stream",
     "text": [
      "2023\n",
      "Maya\n"
     ]
    }
   ],
   "source": [
    "#Constructor: Initialzing object data at the time of creation itself\n",
    "\n",
    "class student:\n",
    "    Reg_id=0  #data/Attributes/properties/field\n",
    "    name=\"\"\n",
    "    \n",
    "    def display(s): \n",
    "        print(s.Reg_id)\n",
    "        print(s.name)\n",
    "    \n",
    "        \n",
    "        \n",
    "    def __init__(s,r,n=\"Maya\"):\n",
    "        s.Reg_id=r\n",
    "        s.name=n\n",
    "        \n",
    "#Constructor is automatically called when obejct is created by class name\n",
    "m1=student(2021,\"Ravi\")\n",
    "m2=student(2022, \"Shweta\")\n",
    "m3=student(2023)\n",
    "\n",
    "m3.display()"
   ]
  },
  {
   "cell_type": "code",
   "execution_count": 9,
   "metadata": {},
   "outputs": [
    {
     "name": "stdout",
     "output_type": "stream",
     "text": [
      "2.0\n",
      "30\n",
      "200\n"
     ]
    }
   ],
   "source": [
    "# Multiple Inheritance\n",
    "# sum is a base class\n",
    "class sum:\n",
    "    def summation(s,a,b):\n",
    "        return a+b\n",
    "#Multiply is a base class\n",
    "class multiply:\n",
    "    def multiplication(s,a,b):\n",
    "        return a*b\n",
    "#calculator is a child/derived class\n",
    "class calculator(sum,multiply):\n",
    "    def division(s,a,b):\n",
    "        return a/b\n",
    "\n",
    "d=calculator()\n",
    "a=d.division(20,10)\n",
    "print(a)\n",
    "b=d.summation(20,10)\n",
    "c=d.multiplication(20,10)\n",
    "print(b)\n",
    "print(c)"
   ]
  },
  {
   "cell_type": "code",
   "execution_count": 11,
   "metadata": {},
   "outputs": [
    {
     "name": "stdout",
     "output_type": "stream",
     "text": [
      "Eating\n",
      "Dog Barking\n",
      "Animal Speaking\n",
      "Animal Speaking\n"
     ]
    }
   ],
   "source": [
    "#Multilevel Inheritance\n",
    "class Animal:\n",
    "    def speak(s):\n",
    "        print(\"Animal Speaking\")\n",
    "#Dog is derived from Animal Class     \n",
    "class Dog(Animal):\n",
    "    def bark(s):\n",
    "        print(\"Dog Barking\")\n",
    "#DogChild is derived from Dog Class      \n",
    "class DogChild(Dog):\n",
    "    def eat(s):\n",
    "        print(\"Eating\")\n",
    "        \n",
    "d=DogChild()\n",
    "d.eat()\n",
    "d.bark()\n",
    "d.speak()\n",
    "dog=Dog()\n",
    "dog.speak()"
   ]
  },
  {
   "cell_type": "code",
   "execution_count": 12,
   "metadata": {},
   "outputs": [
    {
     "ename": "AttributeError",
     "evalue": "'Dog' object has no attribute 'eat'",
     "output_type": "error",
     "traceback": [
      "\u001b[1;31m---------------------------------------------------------------------------\u001b[0m",
      "\u001b[1;31mAttributeError\u001b[0m                            Traceback (most recent call last)",
      "\u001b[1;32m<ipython-input-12-5d53a4120c20>\u001b[0m in \u001b[0;36m<module>\u001b[1;34m\u001b[0m\n\u001b[1;32m----> 1\u001b[1;33m \u001b[0mdog\u001b[0m\u001b[1;33m.\u001b[0m\u001b[0meat\u001b[0m\u001b[1;33m(\u001b[0m\u001b[1;33m)\u001b[0m\u001b[1;33m\u001b[0m\u001b[1;33m\u001b[0m\u001b[0m\n\u001b[0m",
      "\u001b[1;31mAttributeError\u001b[0m: 'Dog' object has no attribute 'eat'"
     ]
    }
   ],
   "source": [
    "dog.eat()"
   ]
  },
  {
   "cell_type": "code",
   "execution_count": null,
   "metadata": {},
   "outputs": [],
   "source": []
  }
 ],
 "metadata": {
  "kernelspec": {
   "display_name": "Python 3",
   "language": "python",
   "name": "python3"
  },
  "language_info": {
   "codemirror_mode": {
    "name": "ipython",
    "version": 3
   },
   "file_extension": ".py",
   "mimetype": "text/x-python",
   "name": "python",
   "nbconvert_exporter": "python",
   "pygments_lexer": "ipython3",
   "version": "3.7.3"
  }
 },
 "nbformat": 4,
 "nbformat_minor": 2
}
