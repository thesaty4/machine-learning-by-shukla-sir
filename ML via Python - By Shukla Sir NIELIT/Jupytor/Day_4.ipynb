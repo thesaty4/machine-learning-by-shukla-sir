{
 "cells": [
  {
   "cell_type": "code",
   "execution_count": 1,
   "metadata": {},
   "outputs": [
    {
     "name": "stdout",
     "output_type": "stream",
     "text": [
      "Enter First Number: 12\n",
      "Enter Second Number: 34\n",
      "46\n"
     ]
    }
   ],
   "source": [
    "# Adding two numbers\n",
    "x=int(input(\"Enter First Number: \"))\n",
    "y=int(input(\"Enter Second Number: \"))\n",
    "sum=x+y\n",
    "print(\"Sum is: \",sum)"
   ]
  },
  {
   "cell_type": "code",
   "execution_count": 3,
   "metadata": {},
   "outputs": [
    {
     "name": "stdout",
     "output_type": "stream",
     "text": [
      "sum is: 30\n"
     ]
    }
   ],
   "source": [
    "# Same program has been made using a function\n",
    "# def is keyword used to write a function\n",
    "# thereafter you have to give name of function and input data within bracket\n",
    "def sum(a,b):   # Defining a Function\n",
    "    c=a+b # process statement\n",
    "    print(\"sum is:\", c)\n",
    "# Function definition is never executed. It is only executed when it is called.   \n",
    "x=int(input(\"Enter First Number: \"))\n",
    "y=int(input(\"Enter Second Number: \"))\n",
    "# x and y is argument/parameter(input) of this function\n",
    "sum(x,y)  # Calling a function"
   ]
  },
  {
   "cell_type": "code",
   "execution_count": 5,
   "metadata": {},
   "outputs": [
    {
     "name": "stdout",
     "output_type": "stream",
     "text": [
      "Hello\n"
     ]
    }
   ],
   "source": [
    "#Simple function\n",
    "def hello():\n",
    "    print(\"Hello\")\n",
    "hello()"
   ]
  },
  {
   "cell_type": "code",
   "execution_count": 6,
   "metadata": {},
   "outputs": [
    {
     "name": "stdout",
     "output_type": "stream",
     "text": [
      "Enter First Number: 10\n",
      "Enter Second Number: 20\n",
      "Answer is: 60\n"
     ]
    }
   ],
   "source": [
    "#program to find value of 2*(a+b)\n",
    "def sum1(a,b):   \n",
    "    c=a+b \n",
    "    return c\n",
    "\n",
    "x=int(input(\"Enter First Number: \"))\n",
    "y=int(input(\"Enter Second Number: \"))\n",
    "#we catch c send by the function in varibale s when function is called\n",
    "s=sum1(x,y) \n",
    "a=s*2 #output s returned by function sum1 is used for further processing\n",
    "print(\"Answer is:\", a)"
   ]
  },
  {
   "cell_type": "code",
   "execution_count": 7,
   "metadata": {},
   "outputs": [
    {
     "name": "stdout",
     "output_type": "stream",
     "text": [
      "Enter the String:elephant\n",
      "No of Vowels: 3\n"
     ]
    }
   ],
   "source": [
    "# Function to find number of vowels in a string\n",
    "\n",
    "def vowel_count(str):\n",
    "    vowel=set(\"aeiouAEIOU\")\n",
    "    count=0\n",
    "    for x in str:\n",
    "        if x in vowel:\n",
    "            count=count+1\n",
    "    print(\"No of Vowels:\", count)\n",
    "    \n",
    "s=input(\"Enter the String:\")\n",
    "vowel_count(s)\n"
   ]
  },
  {
   "cell_type": "code",
   "execution_count": 8,
   "metadata": {},
   "outputs": [
    {
     "name": "stdout",
     "output_type": "stream",
     "text": [
      "Enter the String:good\n",
      "No of Vowels: 2\n"
     ]
    }
   ],
   "source": [
    "def vowel_count(str):\n",
    "    vowel=set(\"aeiouAEIOU\")\n",
    "    count=0\n",
    "    for x in str:\n",
    "        if x in vowel:\n",
    "            count=count+1\n",
    "    return count\n",
    "    \n",
    "s=input(\"Enter the String:\")\n",
    "c=vowel_count(s)\n",
    "print(\"No of Vowels:\", c)\n"
   ]
  },
  {
   "cell_type": "code",
   "execution_count": 16,
   "metadata": {},
   "outputs": [
    {
     "name": "stdout",
     "output_type": "stream",
     "text": [
      "Interest:  20.0\n"
     ]
    }
   ],
   "source": [
    "#Keyword Arguments: Arguments can be given in any sequence but name of argument\n",
    "# has to be provided\n",
    "def simple_interest(p,r,t):\n",
    "    i=(p*t*r)/100\n",
    "    return i\n",
    "si=simple_interest(p=1000,r=2,t=1)\n",
    "print(\"Interest: \", si)\n"
   ]
  },
  {
   "cell_type": "code",
   "execution_count": 21,
   "metadata": {},
   "outputs": [
    {
     "name": "stdout",
     "output_type": "stream",
     "text": [
      "Interest:  180.0\n",
      "Interest:  210.0\n",
      "Interest:  180.0\n"
     ]
    }
   ],
   "source": [
    "#Default Arguments\n",
    "def simple_interest(p,t=3,r=6):\n",
    "    i=(p*t*r)/100\n",
    "    return i\n",
    "si=simple_interest(1000,3)\n",
    "print(\"Interest: \", si)\n",
    "si=simple_interest(1000,3,7)\n",
    "print(\"Interest: \", si)\n",
    "si=simple_interest(1000)\n",
    "print(\"Interest: \", si)"
   ]
  },
  {
   "cell_type": "code",
   "execution_count": 23,
   "metadata": {},
   "outputs": [
    {
     "name": "stdout",
     "output_type": "stream",
     "text": [
      "Sum is: 10\n",
      "Sum is: 30\n",
      "Sum is: 60\n",
      "Sum is: 100\n",
      "Sum is: 146\n"
     ]
    }
   ],
   "source": [
    "#Variable Length Arguments\n",
    "def adder(*num):\n",
    "    sum=0\n",
    "    for n in num:\n",
    "        sum=sum+n\n",
    "    print(\"Sum is:\",sum)\n",
    "\n",
    "\n",
    "\n",
    "adder(10)\n",
    "adder(10,20)\n",
    "adder(10,20,30)\n",
    "adder(10,20,30,40)\n",
    "adder(45,67,34)"
   ]
  },
  {
   "cell_type": "code",
   "execution_count": 25,
   "metadata": {},
   "outputs": [
    {
     "name": "stdout",
     "output_type": "stream",
     "text": [
      "Sum is: 30\n",
      "Product is: 200\n"
     ]
    }
   ],
   "source": [
    "#if a function returns more than one output then what?\n",
    "#use a tuple to return and also catch it in tuple when you call a function\n",
    "def sum_product(a,b):   \n",
    "    c=a+b\n",
    "    d=a*b\n",
    "    return (c,d)\n",
    "\n",
    "(s,p)=sum_product(10,20)\n",
    "print(\"Sum is:\",s)\n",
    "print(\"Product is:\",p)"
   ]
  },
  {
   "cell_type": "code",
   "execution_count": 27,
   "metadata": {},
   "outputs": [
    {
     "name": "stdout",
     "output_type": "stream",
     "text": [
      "17\n",
      "21\n"
     ]
    }
   ],
   "source": [
    "#Lambda Function: add is the name of the function\n",
    "add=lambda x,y:x+y*2\n",
    "print(add(5,6))\n",
    "print(add(5,8))\n"
   ]
  },
  {
   "cell_type": "code",
   "execution_count": 28,
   "metadata": {},
   "outputs": [
    {
     "data": {
      "text/plain": [
       "20"
      ]
     },
     "execution_count": 28,
     "metadata": {},
     "output_type": "execute_result"
    }
   ],
   "source": [
    "def multiply2(x):\n",
    "    return x*2\n",
    "multiply2(10)"
   ]
  },
  {
   "cell_type": "code",
   "execution_count": 29,
   "metadata": {},
   "outputs": [
    {
     "name": "stdout",
     "output_type": "stream",
     "text": [
      "[2, 4, 6, 8]\n"
     ]
    }
   ],
   "source": [
    "list=[1,2,3,4]\n",
    "l=[]\n",
    "for i in list:\n",
    "    a=multiply2(i)\n",
    "    l.append(a)\n",
    "print(l)\n",
    "    "
   ]
  },
  {
   "cell_type": "code",
   "execution_count": 35,
   "metadata": {},
   "outputs": [
    {
     "name": "stdout",
     "output_type": "stream",
     "text": [
      "(2, 4, 6, 8)\n"
     ]
    }
   ],
   "source": [
    "# Same can be done using map function\n",
    "m=map(multiply2,list)\n",
    "x=tuple(m)\n",
    "print(x)"
   ]
  },
  {
   "cell_type": "code",
   "execution_count": 36,
   "metadata": {},
   "outputs": [
    {
     "name": "stdout",
     "output_type": "stream",
     "text": [
      "[2, 4, 6, 8]\n"
     ]
    }
   ],
   "source": [
    "m=[*map(multiply2,list)]\n",
    "print(m)"
   ]
  },
  {
   "cell_type": "code",
   "execution_count": 38,
   "metadata": {},
   "outputs": [
    {
     "name": "stdout",
     "output_type": "stream",
     "text": [
      "[4, 25, 36, 49, 16]\n"
     ]
    }
   ],
   "source": [
    "#Map and Lambda together\n",
    "Square1 = [2,5,6,7,4]\n",
    "Square2= [*map(lambda x:x **2, Square1)]\n",
    "print(Square2)\n"
   ]
  },
  {
   "cell_type": "code",
   "execution_count": null,
   "metadata": {},
   "outputs": [],
   "source": [
    "# today what functions has been defined are User Defined Functions\n",
    "#but the function like input, print, append etc. are built in function\n",
    "\n"
   ]
  }
 ],
 "metadata": {
  "kernelspec": {
   "display_name": "Python 3",
   "language": "python",
   "name": "python3"
  },
  "language_info": {
   "codemirror_mode": {
    "name": "ipython",
    "version": 3
   },
   "file_extension": ".py",
   "mimetype": "text/x-python",
   "name": "python",
   "nbconvert_exporter": "python",
   "pygments_lexer": "ipython3",
   "version": "3.7.3"
  }
 },
 "nbformat": 4,
 "nbformat_minor": 2
}
