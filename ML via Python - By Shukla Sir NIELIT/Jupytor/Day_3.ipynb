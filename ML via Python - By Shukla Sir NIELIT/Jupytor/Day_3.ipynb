{
 "cells": [
  {
   "cell_type": "code",
   "execution_count": 6,
   "metadata": {},
   "outputs": [
    {
     "name": "stdout",
     "output_type": "stream",
     "text": [
      "Inside Loop: 0\n",
      "Inside Loop: 0.5\n",
      "Inside Loop: 1.0\n",
      "Inside Loop: 1.5\n",
      "Inside Loop: 2.0\n",
      "Inside Loop: 2.5\n",
      "Inside Loop: 3.0\n",
      "Inside Loop: 3.5\n",
      "Inside Loop: 4.0\n",
      "Inside Loop: 4.5\n",
      "Out of Loop\n"
     ]
    }
   ],
   "source": [
    "#Loops: While Loop\n",
    "count=0   #Initialization: same variable will be initialized which exist in condition\n",
    "while(count<5):  #Condition\n",
    "    print(\"Inside Loop:\", count)\n",
    "    count=count+0.5 #Updation:should be in such a manner so that condition becomes false at some stage\n",
    "print(\"Out of Loop\")\n",
    "       "
   ]
  },
  {
   "cell_type": "code",
   "execution_count": 7,
   "metadata": {},
   "outputs": [
    {
     "name": "stdout",
     "output_type": "stream",
     "text": [
      "Lucknow\n",
      "Delhi\n",
      "Gorakhpur\n",
      "Out of for loop\n"
     ]
    }
   ],
   "source": [
    "#for Loop in a List\n",
    "City=[\"Lucknow\", \"Delhi\", \"Gorakhpur\"]\n",
    "for i in City: #Loop ends when List City is finished.\n",
    "    print(i)\n",
    "print(\"Out of for loop\")"
   ]
  },
  {
   "cell_type": "code",
   "execution_count": 8,
   "metadata": {},
   "outputs": [
    {
     "name": "stdout",
     "output_type": "stream",
     "text": [
      "L\n",
      "u\n",
      "c\n",
      "k\n",
      "n\n",
      "o\n",
      "w\n",
      "Out of for Loop\n"
     ]
    }
   ],
   "source": [
    "#for loop on a string\n",
    "a=\"Lucknow\"\n",
    "for i in a:\n",
    "    print(i)\n",
    "print(\"Out of for Loop\")"
   ]
  },
  {
   "cell_type": "code",
   "execution_count": 10,
   "metadata": {},
   "outputs": [
    {
     "name": "stdout",
     "output_type": "stream",
     "text": [
      "Hello\n",
      "Hello\n",
      "Hello\n",
      "Hello\n",
      "Hello\n",
      "Hello\n"
     ]
    }
   ],
   "source": [
    "#for loop for 6 times\n",
    "for x in range(6):\n",
    "    print(\"Hello\")"
   ]
  },
  {
   "cell_type": "code",
   "execution_count": 11,
   "metadata": {},
   "outputs": [
    {
     "name": "stdout",
     "output_type": "stream",
     "text": [
      "Lucknow\n",
      "Delhi\n",
      "Out of for loop\n"
     ]
    }
   ],
   "source": [
    "#break Statement\n",
    "City=[\"Lucknow\", \"Delhi\", \"Gorakhpur\"]\n",
    "for i in City: \n",
    "    print(i)\n",
    "    if(i==\"Delhi\"):\n",
    "        break #Immediately out of the loop when this statement executes\n",
    "print(\"Out of for loop\")"
   ]
  },
  {
   "cell_type": "code",
   "execution_count": 12,
   "metadata": {},
   "outputs": [
    {
     "name": "stdout",
     "output_type": "stream",
     "text": [
      "Lucknow\n",
      "Gorakhpur\n",
      "Out of for loop\n"
     ]
    }
   ],
   "source": [
    "#Continue Statement\n",
    "City=[\"Lucknow\", \"Delhi\", \"Gorakhpur\"]\n",
    "for i in City: \n",
    "    if(i==\"Delhi\"):\n",
    "        continue # Any statement after this statement will not be executed and we will go at top of the loop\n",
    "    print(i)\n",
    "print(\"Out of for loop\")"
   ]
  },
  {
   "cell_type": "code",
   "execution_count": 13,
   "metadata": {},
   "outputs": [
    {
     "name": "stdout",
     "output_type": "stream",
     "text": [
      "Inside Loop: 0\n",
      "Inside Loop: 0.5\n",
      "Inside Loop: 1.0\n",
      "Inside Loop: 1.5\n",
      "Inside Loop: 2.0\n",
      "Inside Loop: 2.5\n",
      "Inside Loop: 3.0\n",
      "Inside Loop: 3.5\n",
      "Inside Loop: 4.0\n",
      "Inside Loop: 4.5\n",
      "Out of Loop\n"
     ]
    }
   ],
   "source": [
    "# Else within while or for\n",
    "count=0   #Initialization: same variable will be initialized which exist in condition\n",
    "while(count<5):  #Condition\n",
    "    print(\"Inside Loop:\", count)\n",
    "    count=count+0.5 #Updation:should be in such a manner so that condition becomes false at some stage\n",
    "else:\n",
    "    print(\"Out of Loop\")\n",
    "       "
   ]
  },
  {
   "cell_type": "code",
   "execution_count": 19,
   "metadata": {},
   "outputs": [
    {
     "name": "stdout",
     "output_type": "stream",
     "text": [
      "Delhi is in the list\n"
     ]
    }
   ],
   "source": [
    "#Searching an item in list : whether that exists or not\n",
    "City=[\"Lucknow\", \"Delhi\", \"Gorakhpur\"]\n",
    "for i in City: \n",
    "     if(i==\"Delhi\"):\n",
    "        print(\"Delhi is in the list\")\n",
    "        break #Immediately out of the loop when this statement executes\n",
    "else:\n",
    "    print(\"Delhi is not in the list\")\n",
    "\n",
    "#The for loop can be terminated with a break statement. in that case,\n",
    "#Else part is ignored i.e. it will not be executed."
   ]
  },
  {
   "cell_type": "code",
   "execution_count": 20,
   "metadata": {},
   "outputs": [
    {
     "name": "stdout",
     "output_type": "stream",
     "text": [
      "150\n"
     ]
    }
   ],
   "source": [
    "# Sum all the elements of a list\n",
    "list=[10,20,30,40,50]\n",
    "sum=0\n",
    "for i in list:\n",
    "    sum=sum+i\n",
    "print(sum)"
   ]
  },
  {
   "cell_type": "code",
   "execution_count": 29,
   "metadata": {},
   "outputs": [
    {
     "name": "stdout",
     "output_type": "stream",
     "text": [
      "How many numbers you want to add:3\n",
      "Give number of the list:12\n",
      "Give number of the list:1\n",
      "Give number of the list:2\n",
      "Sum is: 15\n",
      "[12, 1, 2]\n"
     ]
    }
   ],
   "source": [
    "# Write a program to sum list of numbers taken from user\n",
    "count=int(input(\"How many numbers you want to add:\"))\n",
    "l=[]\n",
    "sum=0\n",
    "for i in range(count):\n",
    "    n=int(input(\"Give number of the list:\"))\n",
    "    l.append(n)\n",
    "    sum=sum+n\n",
    "print(\"Sum is:\",sum)\n",
    "print(l)"
   ]
  },
  {
   "cell_type": "code",
   "execution_count": null,
   "metadata": {},
   "outputs": [],
   "source": []
  },
  {
   "cell_type": "code",
   "execution_count": 26,
   "metadata": {},
   "outputs": [
    {
     "name": "stdout",
     "output_type": "stream",
     "text": [
      "3\n",
      "4\n",
      "5\n",
      "6\n"
     ]
    }
   ],
   "source": [
    "for x in range(3,7):\n",
    "    print(x)"
   ]
  },
  {
   "cell_type": "code",
   "execution_count": 28,
   "metadata": {},
   "outputs": [
    {
     "name": "stdout",
     "output_type": "stream",
     "text": [
      "3\n",
      "5\n",
      "7\n"
     ]
    }
   ],
   "source": [
    "for x in range(3,8,2):\n",
    "    print(x)"
   ]
  },
  {
   "cell_type": "code",
   "execution_count": null,
   "metadata": {},
   "outputs": [],
   "source": [
    "#range(start,end,step)"
   ]
  },
  {
   "cell_type": "code",
   "execution_count": 30,
   "metadata": {},
   "outputs": [
    {
     "name": "stdout",
     "output_type": "stream",
     "text": [
      "('apple', 'banana', 'cherry')\n"
     ]
    }
   ],
   "source": [
    "#Tuple\n",
    "\n",
    "t=(\"apple\",\"banana\",\"cherry\")\n",
    "print(t)"
   ]
  },
  {
   "cell_type": "code",
   "execution_count": 31,
   "metadata": {},
   "outputs": [
    {
     "name": "stdout",
     "output_type": "stream",
     "text": [
      "cherry\n"
     ]
    }
   ],
   "source": [
    "print(t[2])"
   ]
  },
  {
   "cell_type": "code",
   "execution_count": 32,
   "metadata": {},
   "outputs": [
    {
     "ename": "TypeError",
     "evalue": "'tuple' object does not support item assignment",
     "output_type": "error",
     "traceback": [
      "\u001b[1;31m---------------------------------------------------------------------------\u001b[0m",
      "\u001b[1;31mTypeError\u001b[0m                                 Traceback (most recent call last)",
      "\u001b[1;32m<ipython-input-32-6e7fca6052bf>\u001b[0m in \u001b[0;36m<module>\u001b[1;34m\u001b[0m\n\u001b[1;32m----> 1\u001b[1;33m \u001b[0mt\u001b[0m\u001b[1;33m[\u001b[0m\u001b[1;36m3\u001b[0m\u001b[1;33m]\u001b[0m\u001b[1;33m=\u001b[0m\u001b[1;34m\"Orange\"\u001b[0m\u001b[1;33m\u001b[0m\u001b[1;33m\u001b[0m\u001b[0m\n\u001b[0m",
      "\u001b[1;31mTypeError\u001b[0m: 'tuple' object does not support item assignment"
     ]
    }
   ],
   "source": [
    "#Assignment is not possible in tuple bcoz tuple is immutable object\n",
    "t[3]=\"Orange\""
   ]
  },
  {
   "cell_type": "code",
   "execution_count": 33,
   "metadata": {},
   "outputs": [
    {
     "name": "stdout",
     "output_type": "stream",
     "text": [
      "(1, 2, 3, 4)\n"
     ]
    }
   ],
   "source": [
    "list=[1,2,3,4]\n",
    "t=tuple(list)\n",
    "print(t)"
   ]
  },
  {
   "cell_type": "code",
   "execution_count": 34,
   "metadata": {},
   "outputs": [
    {
     "name": "stdout",
     "output_type": "stream",
     "text": [
      "1\n",
      "2\n",
      "3\n",
      "4\n"
     ]
    }
   ],
   "source": [
    "for i in t:\n",
    "    print(i)"
   ]
  },
  {
   "cell_type": "code",
   "execution_count": 35,
   "metadata": {},
   "outputs": [
    {
     "name": "stdout",
     "output_type": "stream",
     "text": [
      "{'Jan', 'Feb', 'Mar'}\n"
     ]
    }
   ],
   "source": [
    "#Sets\n",
    "Months={\"Jan\",\"Feb\", \"Mar\"}\n",
    "print(Months)"
   ]
  },
  {
   "cell_type": "code",
   "execution_count": 36,
   "metadata": {},
   "outputs": [
    {
     "name": "stdout",
     "output_type": "stream",
     "text": [
      "{1, 2, 3, 4}\n"
     ]
    }
   ],
   "source": [
    "s=set(list)\n",
    "print(s)"
   ]
  },
  {
   "cell_type": "code",
   "execution_count": 38,
   "metadata": {},
   "outputs": [
    {
     "name": "stdout",
     "output_type": "stream",
     "text": [
      "1\n",
      "2\n",
      "3\n",
      "4\n"
     ]
    }
   ],
   "source": [
    "#for loop on the set\n",
    "for x in s:\n",
    "    print(x)"
   ]
  },
  {
   "cell_type": "code",
   "execution_count": 39,
   "metadata": {},
   "outputs": [
    {
     "name": "stdout",
     "output_type": "stream",
     "text": [
      "{1, 2, 3, 4, 5}\n"
     ]
    }
   ],
   "source": [
    "s.add(5)\n",
    "print(s)"
   ]
  },
  {
   "cell_type": "code",
   "execution_count": 40,
   "metadata": {},
   "outputs": [
    {
     "data": {
      "text/plain": [
       "5"
      ]
     },
     "execution_count": 40,
     "metadata": {},
     "output_type": "execute_result"
    }
   ],
   "source": [
    "len(s)"
   ]
  },
  {
   "cell_type": "code",
   "execution_count": 41,
   "metadata": {},
   "outputs": [
    {
     "name": "stdout",
     "output_type": "stream",
     "text": [
      "{1, 2, 3, 5}\n"
     ]
    }
   ],
   "source": [
    "s.remove(4)\n",
    "print(s)"
   ]
  },
  {
   "cell_type": "code",
   "execution_count": 42,
   "metadata": {},
   "outputs": [
    {
     "name": "stdout",
     "output_type": "stream",
     "text": [
      "{8, 5}\n"
     ]
    }
   ],
   "source": [
    "x={3,5,8,9}\n",
    "y={3,4,9}\n",
    "z=x.difference(y)   #x-y\n",
    "print(z)"
   ]
  },
  {
   "cell_type": "code",
   "execution_count": 43,
   "metadata": {},
   "outputs": [
    {
     "name": "stdout",
     "output_type": "stream",
     "text": [
      "{4}\n"
     ]
    }
   ],
   "source": [
    "z=y.difference(x)   #y-x\n",
    "print(z)"
   ]
  },
  {
   "cell_type": "code",
   "execution_count": 45,
   "metadata": {},
   "outputs": [
    {
     "name": "stdout",
     "output_type": "stream",
     "text": [
      "{9, 3}\n"
     ]
    }
   ],
   "source": [
    "x={3,5,8,9}\n",
    "y={3,4,9}\n",
    "z=x.intersection(y)\n",
    "print(z)"
   ]
  },
  {
   "cell_type": "code",
   "execution_count": 46,
   "metadata": {},
   "outputs": [
    {
     "name": "stdout",
     "output_type": "stream",
     "text": [
      "False\n"
     ]
    }
   ],
   "source": [
    "z=x.isdisjoint(y)\n",
    "print(z)"
   ]
  },
  {
   "cell_type": "code",
   "execution_count": 47,
   "metadata": {},
   "outputs": [
    {
     "name": "stdout",
     "output_type": "stream",
     "text": [
      "False\n"
     ]
    }
   ],
   "source": [
    "z=x.issubset(y)\n",
    "print(z)"
   ]
  },
  {
   "cell_type": "code",
   "execution_count": 48,
   "metadata": {},
   "outputs": [
    {
     "name": "stdout",
     "output_type": "stream",
     "text": [
      "{3, 4, 5, 8, 9}\n"
     ]
    }
   ],
   "source": [
    "z=x.union(y)\n",
    "print(z)"
   ]
  },
  {
   "cell_type": "code",
   "execution_count": 2,
   "metadata": {},
   "outputs": [
    {
     "name": "stdout",
     "output_type": "stream",
     "text": [
      "Enter the String:Elephant\n",
      "No of Vowels: 3\n"
     ]
    }
   ],
   "source": [
    "# Program to find number of vowels in a string\n",
    "str=input(\"Enter the String:\")\n",
    "\n",
    "vowel=set(\"aeiouAEIOU\")\n",
    "count=0\n",
    "for x in str:\n",
    "    if x in vowel:\n",
    "        count=count+1\n",
    "print(\"No of Vowels:\", count)\n"
   ]
  },
  {
   "cell_type": "code",
   "execution_count": null,
   "metadata": {},
   "outputs": [],
   "source": []
  }
 ],
 "metadata": {
  "kernelspec": {
   "display_name": "Python 3",
   "language": "python",
   "name": "python3"
  },
  "language_info": {
   "codemirror_mode": {
    "name": "ipython",
    "version": 3
   },
   "file_extension": ".py",
   "mimetype": "text/x-python",
   "name": "python",
   "nbconvert_exporter": "python",
   "pygments_lexer": "ipython3",
   "version": "3.7.3"
  }
 },
 "nbformat": 4,
 "nbformat_minor": 2
}
