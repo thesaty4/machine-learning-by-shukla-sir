{
 "cells": [
  {
   "cell_type": "code",
   "execution_count": 1,
   "metadata": {},
   "outputs": [
    {
     "name": "stdout",
     "output_type": "stream",
     "text": [
      "Series([], dtype: float64)\n"
     ]
    }
   ],
   "source": [
    "#pandas module\n",
    "#Series means just one sequence of data for ex: one column\n",
    "import pandas as pd\n",
    "s=pd.Series()\n",
    "print(s)\n"
   ]
  },
  {
   "cell_type": "code",
   "execution_count": 6,
   "metadata": {},
   "outputs": [
    {
     "name": "stdout",
     "output_type": "stream",
     "text": [
      "[10 20 30 40 50]\n",
      "RangeIndex(start=0, stop=5, step=1)\n",
      "[0, 1, 2, 3, 4]\n"
     ]
    }
   ],
   "source": [
    "# As series has data(values) as well as index to access that data\n",
    "s=pd.Series([10,20,30,40,50])\n",
    "print(s.values)\n",
    "print(s.index)\n",
    "print(list(s.index))\n"
   ]
  },
  {
   "cell_type": "code",
   "execution_count": 7,
   "metadata": {},
   "outputs": [
    {
     "name": "stdout",
     "output_type": "stream",
     "text": [
      "0     Ravi\n",
      "1    Sahil\n",
      "2    Rahul\n",
      "3    Ankit\n",
      "dtype: object\n"
     ]
    }
   ],
   "source": [
    "import numpy as np\n",
    "data=np.array([\"Ravi\",\"Sahil\",\"Rahul\",\"Ankit\"])\n",
    "s=pd.Series(data)\n",
    "print(s)"
   ]
  },
  {
   "cell_type": "code",
   "execution_count": 8,
   "metadata": {},
   "outputs": [
    {
     "name": "stdout",
     "output_type": "stream",
     "text": [
      "100     Ravi\n",
      "200    Sahil\n",
      "300    Rahul\n",
      "400    Ankit\n",
      "dtype: object\n"
     ]
    }
   ],
   "source": [
    "#In a series Index can also be defined\n",
    "#By Default index is 0,1,2,3.....\n",
    "s=pd.Series(data, index=[100,200,300,400])\n",
    "print(s)"
   ]
  },
  {
   "cell_type": "code",
   "execution_count": 10,
   "metadata": {},
   "outputs": [
    {
     "name": "stdout",
     "output_type": "stream",
     "text": [
      "Sahil\n"
     ]
    }
   ],
   "source": [
    "print(s[200])"
   ]
  },
  {
   "cell_type": "code",
   "execution_count": 14,
   "metadata": {},
   "outputs": [
    {
     "name": "stdout",
     "output_type": "stream",
     "text": [
      "Sahil\n"
     ]
    }
   ],
   "source": [
    "s=pd.Series([\"Ravi\",\"Sahil\",\"Rahul\",\"Ankit\"], index=[100,200,300,400])\n",
    "print(s[200])"
   ]
  },
  {
   "cell_type": "code",
   "execution_count": 17,
   "metadata": {},
   "outputs": [
    {
     "name": "stdout",
     "output_type": "stream",
     "text": [
      "Sahil\n",
      "Sahil\n"
     ]
    }
   ],
   "source": [
    "#index can be a string also\n",
    "s=pd.Series([\"Ravi\",\"Sahil\",\"Rahul\",\"Ankit\"], index=['a','b','c','d'])\n",
    "print(s['b'])\n",
    "print(s[1])"
   ]
  },
  {
   "cell_type": "code",
   "execution_count": 18,
   "metadata": {},
   "outputs": [
    {
     "name": "stdout",
     "output_type": "stream",
     "text": [
      "b    Sahil\n",
      "c    Rahul\n",
      "d    Ankit\n",
      "dtype: object\n"
     ]
    }
   ],
   "source": [
    "#Slicing the data\n",
    "print(s[1:])"
   ]
  },
  {
   "cell_type": "code",
   "execution_count": 19,
   "metadata": {},
   "outputs": [
    {
     "name": "stdout",
     "output_type": "stream",
     "text": [
      "b    Sahil\n",
      "c    Rahul\n",
      "dtype: object\n"
     ]
    }
   ],
   "source": [
    "print(s[1:3])"
   ]
  },
  {
   "cell_type": "code",
   "execution_count": 20,
   "metadata": {},
   "outputs": [
    {
     "name": "stdout",
     "output_type": "stream",
     "text": [
      "a     Ravi\n",
      "c    Rahul\n",
      "d    Ankit\n",
      "dtype: object\n"
     ]
    }
   ],
   "source": [
    "print(s[['a','c','d']])"
   ]
  },
  {
   "cell_type": "code",
   "execution_count": 21,
   "metadata": {},
   "outputs": [
    {
     "name": "stdout",
     "output_type": "stream",
     "text": [
      "a     Ravi\n",
      "b    Sahil\n",
      "c    Rahul\n",
      "d    Ankit\n",
      "f    Mohan\n",
      "dtype: object\n"
     ]
    }
   ],
   "source": [
    "#adding a data in the series\n",
    "s=pd.Series([\"Ravi\",\"Sahil\",\"Rahul\",\"Ankit\"], index=['a','b','c','d'])\n",
    "s['f']=\"Mohan\"\n",
    "print(s)"
   ]
  },
  {
   "cell_type": "code",
   "execution_count": 23,
   "metadata": {},
   "outputs": [
    {
     "name": "stdout",
     "output_type": "stream",
     "text": [
      "a     Ravi\n",
      "b    Sahil\n",
      "c    Rahul\n",
      "d    Ankit\n",
      "f    Mohan\n",
      "0        8\n",
      "1        9\n",
      "2       10\n",
      "dtype: object\n"
     ]
    }
   ],
   "source": [
    "new=pd.Series([8,9,10])\n",
    "s=s.append(new)\n",
    "print(s)"
   ]
  },
  {
   "cell_type": "code",
   "execution_count": 24,
   "metadata": {},
   "outputs": [
    {
     "name": "stdout",
     "output_type": "stream",
     "text": [
      "a     Ravi\n",
      "b    Sahil\n",
      "c    Rahul\n",
      "f    Mohan\n",
      "0        8\n",
      "1        9\n",
      "2       10\n",
      "dtype: object\n"
     ]
    }
   ],
   "source": [
    "s=s.drop(['d'])\n",
    "print(s)"
   ]
  },
  {
   "cell_type": "code",
   "execution_count": 25,
   "metadata": {},
   "outputs": [
    {
     "name": "stdout",
     "output_type": "stream",
     "text": [
      "Empty DataFrame\n",
      "Columns: []\n",
      "Index: []\n"
     ]
    }
   ],
   "source": [
    "# Data Frame\n",
    "df=pd.DataFrame()\n",
    "print(df)"
   ]
  },
  {
   "cell_type": "code",
   "execution_count": 27,
   "metadata": {},
   "outputs": [
    {
     "name": "stdout",
     "output_type": "stream",
     "text": [
      "    0\n",
      "0  10\n",
      "1  20\n",
      "2  30\n",
      "3  40\n"
     ]
    }
   ],
   "source": [
    "data=[10,20,30,40]\n",
    "df=pd.DataFrame(data)\n",
    "print(df)"
   ]
  },
  {
   "cell_type": "code",
   "execution_count": 29,
   "metadata": {},
   "outputs": [
    {
     "name": "stdout",
     "output_type": "stream",
     "text": [
      "       0   1\n",
      "0   Ravi  10\n",
      "1  Mohan  20\n",
      "2   Alok  30\n",
      "3  Ankit  40\n"
     ]
    }
   ],
   "source": [
    "#tabular data\n",
    "data=[['Ravi',10],['Mohan',20],['Alok',30],['Ankit',40]]\n",
    "df=pd.DataFrame(data)\n",
    "print(df)"
   ]
  },
  {
   "cell_type": "code",
   "execution_count": 31,
   "metadata": {},
   "outputs": [
    {
     "name": "stdout",
     "output_type": "stream",
     "text": [
      "    Name  Marks\n",
      "0   Ravi     10\n",
      "1  Mohan     20\n",
      "2   Alok     30\n",
      "3  Ankit     40\n"
     ]
    }
   ],
   "source": [
    "#tabular data\n",
    "data=[['Ravi',10],['Mohan',20],['Alok',30],['Ankit',40]]\n",
    "df=pd.DataFrame(data,columns=['Name','Marks'])\n",
    "print(df)"
   ]
  },
  {
   "cell_type": "code",
   "execution_count": 32,
   "metadata": {},
   "outputs": [
    {
     "name": "stdout",
     "output_type": "stream",
     "text": [
      "  Item  Price\n",
      "0    A    600\n",
      "1    B    750\n",
      "2    C    580\n",
      "3    D    300\n",
      "4    E    100\n"
     ]
    }
   ],
   "source": [
    "#Create a Data Frame from Dictionary \n",
    "d={'Item':['A','B','C','D','E'],'Price':[600,750,580,300,100]}\n",
    "df=pd.DataFrame(d)\n",
    "print(df)"
   ]
  },
  {
   "cell_type": "code",
   "execution_count": 33,
   "metadata": {},
   "outputs": [
    {
     "name": "stdout",
     "output_type": "stream",
     "text": [
      "0    600\n",
      "1    750\n",
      "2    580\n",
      "3    300\n",
      "4    100\n",
      "Name: Price, dtype: int64\n"
     ]
    }
   ],
   "source": [
    "#accessing the data\n",
    "print(df['Price'])"
   ]
  },
  {
   "cell_type": "code",
   "execution_count": 34,
   "metadata": {},
   "outputs": [
    {
     "name": "stdout",
     "output_type": "stream",
     "text": [
      "580\n"
     ]
    }
   ],
   "source": [
    "print(df['Price'][2])"
   ]
  },
  {
   "cell_type": "code",
   "execution_count": 35,
   "metadata": {},
   "outputs": [
    {
     "name": "stdout",
     "output_type": "stream",
     "text": [
      "  Item  Price\n",
      "0    G    500\n",
      "1    H    400\n"
     ]
    }
   ],
   "source": [
    "df2=pd.DataFrame([['G',500],['H',400]],columns=['Item','Price'])\n",
    "print(df2)"
   ]
  },
  {
   "cell_type": "code",
   "execution_count": 37,
   "metadata": {},
   "outputs": [
    {
     "name": "stdout",
     "output_type": "stream",
     "text": [
      "  Item  Price\n",
      "0    A    600\n",
      "1    B    750\n",
      "2    C    580\n",
      "3    D    300\n",
      "4    E    100\n",
      "0    G    500\n",
      "1    H    400\n"
     ]
    }
   ],
   "source": [
    "df=df.append(df2)\n",
    "print(df)"
   ]
  },
  {
   "cell_type": "code",
   "execution_count": 41,
   "metadata": {},
   "outputs": [
    {
     "name": "stdout",
     "output_type": "stream",
     "text": [
      "  Product  Base_Price\n",
      "0       A         600\n",
      "1       B         750\n",
      "2       C         580\n",
      "3       D         300\n",
      "4       E         100\n",
      "0       G         500\n",
      "1       H         400\n"
     ]
    }
   ],
   "source": [
    "df.rename(columns={'Item':'Product','Price':'Base_Price'},inplace=True)\n",
    "print(df)"
   ]
  },
  {
   "cell_type": "code",
   "execution_count": 43,
   "metadata": {},
   "outputs": [
    {
     "name": "stdout",
     "output_type": "stream",
     "text": [
      "  Product  Base_Price  Unit\n",
      "0       A         600    30\n",
      "1       B         750    40\n",
      "2       C         580    20\n",
      "3       D         300    10\n",
      "4       E         100     5\n",
      "0       G         500    30\n",
      "1       H         400    40\n"
     ]
    }
   ],
   "source": [
    "#add a new column in data frame\n",
    "df['Unit']=pd.Series([30,40,20,10,5,12,45])\n",
    "print(df)"
   ]
  },
  {
   "cell_type": "code",
   "execution_count": 44,
   "metadata": {},
   "outputs": [
    {
     "name": "stdout",
     "output_type": "stream",
     "text": [
      "  Product  Base_Price  Unit  Total_Price\n",
      "0       A         600    30        18000\n",
      "1       B         750    40        30000\n",
      "2       C         580    20        11600\n",
      "3       D         300    10         3000\n",
      "4       E         100     5          500\n",
      "0       G         500    30        15000\n",
      "1       H         400    40        16000\n"
     ]
    }
   ],
   "source": [
    "# Adding a new column using existing column in Data Frame\n",
    "df['Total_Price']=df['Base_Price']* df['Unit']\n",
    "print(df)"
   ]
  },
  {
   "cell_type": "code",
   "execution_count": 45,
   "metadata": {},
   "outputs": [
    {
     "name": "stdout",
     "output_type": "stream",
     "text": [
      "  Product  Base_Price    Place  Unit  Total_Price\n",
      "0       A         600  Lucknow    30        18000\n",
      "1       B         750    Delhi    40        30000\n",
      "2       C         580    Delhi    20        11600\n",
      "3       D         300   Mumbai    10         3000\n",
      "4       E         100  Lucknow     5          500\n",
      "0       G         500    Patna    30        15000\n",
      "1       H         400   Mumbai    40        16000\n"
     ]
    }
   ],
   "source": [
    "# Insert a new Column at a particular position\n",
    "new_data=[\"Lucknow\",\"Delhi\",\"Delhi\",\"Mumbai\",\"Lucknow\",\"Patna\",\"Mumbai\"]\n",
    "df.insert(2,column=\"Place\",value=new_data)\n",
    "print(df)"
   ]
  },
  {
   "cell_type": "code",
   "execution_count": 48,
   "metadata": {},
   "outputs": [
    {
     "name": "stdout",
     "output_type": "stream",
     "text": [
      "  Product  Base_Price    Place  Unit  Total_Price\n",
      "0       A         600  Lucknow    30        18000\n",
      "1       B         750    Delhi    40        30000\n",
      "0       G         500    Patna    30        15000\n",
      "1       H         400   Mumbai    40        16000\n"
     ]
    }
   ],
   "source": [
    "a=df.loc[df['Unit']>25]\n",
    "print(a)"
   ]
  },
  {
   "cell_type": "code",
   "execution_count": 49,
   "metadata": {},
   "outputs": [
    {
     "name": "stdout",
     "output_type": "stream",
     "text": [
      "  Product  Base_Price    Place  Unit  Total_Price\n",
      "0       A         600  Lucknow    30        18000\n",
      "4       E         100  Lucknow     5          500\n"
     ]
    }
   ],
   "source": [
    "a=df.loc[df['Place']==\"Lucknow\"]\n",
    "print(a)"
   ]
  },
  {
   "cell_type": "code",
   "execution_count": 50,
   "metadata": {},
   "outputs": [
    {
     "name": "stdout",
     "output_type": "stream",
     "text": [
      "  Product  Base_Price    Place  Unit  Total_Price\n",
      "0       A         600  Lucknow    30        18000\n",
      "1       B         750    Delhi    40        30000\n",
      "2       C         580    Delhi    20        11600\n",
      "4       E         100  Lucknow     5          500\n"
     ]
    }
   ],
   "source": [
    "a=df.loc[df['Place'].isin([\"Lucknow\",\"Delhi\"])]\n",
    "print(a)"
   ]
  },
  {
   "cell_type": "code",
   "execution_count": 51,
   "metadata": {},
   "outputs": [
    {
     "name": "stdout",
     "output_type": "stream",
     "text": [
      "  Product  Base_Price    Place  Unit  Total_Price\n",
      "0       A         600  Lucknow    30        18000\n",
      "1       B         750    Delhi    40        30000\n",
      "2       C         580    Delhi    20        11600\n",
      "3       D         300   Mumbai    10         3000\n",
      "4       E         100  Lucknow     5          500\n",
      "0       G         500    Patna    30        15000\n",
      "1       H         400   Mumbai    40        16000\n"
     ]
    }
   ],
   "source": [
    "print(df)"
   ]
  },
  {
   "cell_type": "code",
   "execution_count": 59,
   "metadata": {},
   "outputs": [
    {
     "name": "stdout",
     "output_type": "stream",
     "text": [
      "16000\n"
     ]
    }
   ],
   "source": [
    "#iloc is a function to access data using default index\n",
    "print(df.iloc[6,4])"
   ]
  },
  {
   "cell_type": "code",
   "execution_count": 60,
   "metadata": {},
   "outputs": [
    {
     "name": "stdout",
     "output_type": "stream",
     "text": [
      "0    18000\n",
      "1    30000\n",
      "2    11600\n",
      "3     3000\n",
      "4      500\n",
      "0    15000\n",
      "1    16000\n",
      "Name: Total_Price, dtype: int64\n"
     ]
    }
   ],
   "source": [
    "#iloc[rowindex,columnindex]\n",
    "#rowindex=start:end\n",
    "print(df.iloc[:,4])"
   ]
  },
  {
   "cell_type": "code",
   "execution_count": 61,
   "metadata": {},
   "outputs": [
    {
     "name": "stdout",
     "output_type": "stream",
     "text": [
      "0    18000\n",
      "1    30000\n",
      "2    11600\n",
      "Name: Total_Price, dtype: int64\n"
     ]
    }
   ],
   "source": [
    "print(df.iloc[0:3,4])"
   ]
  },
  {
   "cell_type": "code",
   "execution_count": 62,
   "metadata": {},
   "outputs": [
    {
     "name": "stdout",
     "output_type": "stream",
     "text": [
      "   Base_Price    Place\n",
      "0         600  Lucknow\n",
      "1         750    Delhi\n",
      "2         580    Delhi\n"
     ]
    }
   ],
   "source": [
    "print(df.iloc[0:3,1:3])"
   ]
  },
  {
   "cell_type": "code",
   "execution_count": 63,
   "metadata": {},
   "outputs": [
    {
     "name": "stdout",
     "output_type": "stream",
     "text": [
      "   Base_Price    Place\n",
      "0         600  Lucknow\n",
      "1         750    Delhi\n",
      "2         580    Delhi\n"
     ]
    }
   ],
   "source": [
    "#if start is not provided, it will be taken as 0\n",
    "print(df.iloc[:3,1:3])"
   ]
  },
  {
   "cell_type": "code",
   "execution_count": 64,
   "metadata": {},
   "outputs": [
    {
     "name": "stdout",
     "output_type": "stream",
     "text": [
      "   Base_Price    Place  Unit  Total_Price\n",
      "0         600  Lucknow    30        18000\n",
      "1         750    Delhi    40        30000\n",
      "2         580    Delhi    20        11600\n"
     ]
    }
   ],
   "source": [
    "#if end is not provided that means till the end of row/column\n",
    "print(df.iloc[:3,1:])"
   ]
  },
  {
   "cell_type": "code",
   "execution_count": 65,
   "metadata": {},
   "outputs": [
    {
     "name": "stdout",
     "output_type": "stream",
     "text": [
      "  Product  Base_Price    Place  Unit  Total_Price\n",
      "0       A         600  Lucknow    30        18000\n",
      "1       B         750    Delhi    40        30000\n",
      "2       C         580    Delhi    20        11600\n",
      "3       D         300   Mumbai    10         3000\n",
      "4       E         100  Lucknow     5          500\n",
      "0       G         500    Patna    30        15000\n",
      "1       H         400   Mumbai    40        16000\n"
     ]
    }
   ],
   "source": [
    "print(df)"
   ]
  },
  {
   "cell_type": "code",
   "execution_count": 70,
   "metadata": {},
   "outputs": [
    {
     "name": "stdout",
     "output_type": "stream",
     "text": [
      "  Product  Base_Price    Place  Unit  Total_Price\n",
      "1       B         750    Delhi    40        30000\n",
      "2       C         580    Delhi    20        11600\n",
      "3       D         300   Mumbai    10         3000\n",
      "4       E         100  Lucknow     5          500\n",
      "1       H         400   Mumbai    40        16000\n"
     ]
    }
   ],
   "source": [
    "#Drop rows with Label 0\n",
    "df.drop(0,inplace=True)\n",
    "print(df)"
   ]
  },
  {
   "cell_type": "code",
   "execution_count": 71,
   "metadata": {},
   "outputs": [
    {
     "name": "stdout",
     "output_type": "stream",
     "text": [
      "    Loan_ID Gender Married Dependents     Education Self_Employed  \\\n",
      "0  LP001002   Male      No          0      Graduate            No   \n",
      "1  LP001003   Male     Yes          1      Graduate            No   \n",
      "2  LP001005   Male     Yes          0      Graduate           Yes   \n",
      "3  LP001006   Male     Yes          0  Not Graduate            No   \n",
      "4  LP001008   Male      No          0      Graduate            No   \n",
      "\n",
      "   ApplicantIncome  CoapplicantIncome  LoanAmount  Loan_Amount_Term  \\\n",
      "0             5849                0.0         NaN             360.0   \n",
      "1             4583             1508.0       128.0             360.0   \n",
      "2             3000                0.0        66.0             360.0   \n",
      "3             2583             2358.0       120.0             360.0   \n",
      "4             6000                0.0       141.0             360.0   \n",
      "\n",
      "   Credit_History Property_Area Loan_Status  \n",
      "0             1.0         Urban           Y  \n",
      "1             1.0         Rural           N  \n",
      "2             1.0         Urban           Y  \n",
      "3             1.0         Urban           Y  \n",
      "4             1.0         Urban           Y  \n"
     ]
    }
   ],
   "source": [
    "df=pd.read_csv(\"train.csv\")\n",
    "print(df.head()) #prints first 5 lines from the data frame"
   ]
  },
  {
   "cell_type": "code",
   "execution_count": 72,
   "metadata": {},
   "outputs": [
    {
     "name": "stdout",
     "output_type": "stream",
     "text": [
      "      Loan_ID  Gender Married Dependents     Education Self_Employed  \\\n",
      "495  LP002586  Female     Yes          1      Graduate            No   \n",
      "496  LP002587    Male     Yes          0  Not Graduate            No   \n",
      "497  LP002588    Male     Yes          0      Graduate            No   \n",
      "498  LP002600    Male     Yes          1      Graduate           Yes   \n",
      "499  LP002602    Male      No          0      Graduate            No   \n",
      "\n",
      "     ApplicantIncome  CoapplicantIncome  LoanAmount  Loan_Amount_Term  \\\n",
      "495             3326              913.0       105.0              84.0   \n",
      "496             2600             1700.0       107.0             360.0   \n",
      "497             4625             2857.0       111.0              12.0   \n",
      "498             2895                0.0        95.0             360.0   \n",
      "499             6283             4416.0       209.0             360.0   \n",
      "\n",
      "     Credit_History Property_Area Loan_Status  \n",
      "495             1.0     Semiurban           Y  \n",
      "496             1.0         Rural           Y  \n",
      "497             NaN         Urban           Y  \n",
      "498             1.0     Semiurban           Y  \n",
      "499             0.0         Rural           N  \n"
     ]
    }
   ],
   "source": [
    "print(df.tail()) # Last 5 Rows of data"
   ]
  },
  {
   "cell_type": "code",
   "execution_count": 73,
   "metadata": {},
   "outputs": [
    {
     "name": "stdout",
     "output_type": "stream",
     "text": [
      "    Loan_ID Gender Married Dependents     Education Self_Employed  \\\n",
      "0  LP001002   Male      No          0      Graduate            No   \n",
      "1  LP001003   Male     Yes          1      Graduate            No   \n",
      "2  LP001005   Male     Yes          0      Graduate           Yes   \n",
      "3  LP001006   Male     Yes          0  Not Graduate            No   \n",
      "4  LP001008   Male      No          0      Graduate            No   \n",
      "\n",
      "   ApplicantIncome  CoapplicantIncome  LoanAmount  Loan_Amount_Term  \\\n",
      "0             5849                0.0         NaN             360.0   \n",
      "1             4583             1508.0       128.0             360.0   \n",
      "2             3000                0.0        66.0             360.0   \n",
      "3             2583             2358.0       120.0             360.0   \n",
      "4             6000                0.0       141.0             360.0   \n",
      "\n",
      "   Credit_History Property_Area Loan_Status  \n",
      "0             1.0         Urban           Y  \n",
      "1             1.0         Rural           N  \n",
      "2             1.0         Urban           Y  \n",
      "3             1.0         Urban           Y  \n",
      "4             1.0         Urban           Y  \n"
     ]
    }
   ],
   "source": [
    "df=pd.read_csv(\"D:\\\\Big Data Analytics\\\\BBAU\\\\train.csv\")\n",
    "print(df.head()) "
   ]
  },
  {
   "cell_type": "code",
   "execution_count": 74,
   "metadata": {},
   "outputs": [
    {
     "name": "stdout",
     "output_type": "stream",
     "text": [
      "Index(['Loan_ID', 'Gender', 'Married', 'Dependents', 'Education',\n",
      "       'Self_Employed', 'ApplicantIncome', 'CoapplicantIncome', 'LoanAmount',\n",
      "       'Loan_Amount_Term', 'Credit_History', 'Property_Area', 'Loan_Status'],\n",
      "      dtype='object')\n"
     ]
    }
   ],
   "source": [
    "print(df.columns)"
   ]
  },
  {
   "cell_type": "code",
   "execution_count": 75,
   "metadata": {},
   "outputs": [
    {
     "name": "stdout",
     "output_type": "stream",
     "text": [
      "['Loan_ID', 'Gender', 'Married', 'Dependents', 'Education', 'Self_Employed', 'ApplicantIncome', 'CoapplicantIncome', 'LoanAmount', 'Loan_Amount_Term', 'Credit_History', 'Property_Area', 'Loan_Status']\n"
     ]
    }
   ],
   "source": [
    "print(df.columns.tolist())"
   ]
  },
  {
   "cell_type": "code",
   "execution_count": 77,
   "metadata": {},
   "outputs": [
    {
     "name": "stdout",
     "output_type": "stream",
     "text": [
      "0      False\n",
      "1      False\n",
      "2      False\n",
      "3      False\n",
      "4      False\n",
      "5      False\n",
      "6      False\n",
      "7      False\n",
      "8      False\n",
      "9      False\n",
      "10     False\n",
      "11     False\n",
      "12     False\n",
      "13     False\n",
      "14     False\n",
      "15     False\n",
      "16     False\n",
      "17     False\n",
      "18     False\n",
      "19     False\n",
      "20     False\n",
      "21     False\n",
      "22     False\n",
      "23      True\n",
      "24     False\n",
      "25     False\n",
      "26     False\n",
      "27     False\n",
      "28     False\n",
      "29     False\n",
      "       ...  \n",
      "470    False\n",
      "471    False\n",
      "472    False\n",
      "473    False\n",
      "474    False\n",
      "475    False\n",
      "476    False\n",
      "477     True\n",
      "478    False\n",
      "479    False\n",
      "480    False\n",
      "481    False\n",
      "482    False\n",
      "483    False\n",
      "484    False\n",
      "485    False\n",
      "486    False\n",
      "487    False\n",
      "488    False\n",
      "489    False\n",
      "490    False\n",
      "491    False\n",
      "492    False\n",
      "493    False\n",
      "494    False\n",
      "495    False\n",
      "496    False\n",
      "497    False\n",
      "498    False\n",
      "499    False\n",
      "Name: Gender, Length: 500, dtype: bool\n"
     ]
    }
   ],
   "source": [
    "#Missing data or Null data\n",
    "print(df[\"Gender\"].isnull())"
   ]
  },
  {
   "cell_type": "code",
   "execution_count": 78,
   "metadata": {},
   "outputs": [
    {
     "name": "stdout",
     "output_type": "stream",
     "text": [
      "9\n"
     ]
    }
   ],
   "source": [
    "#9 data in Gender Column is Null\n",
    "#Find Null data in a Particular Column\n",
    "print(df[\"Gender\"].isnull().sum())"
   ]
  },
  {
   "cell_type": "code",
   "execution_count": 79,
   "metadata": {},
   "outputs": [
    {
     "name": "stdout",
     "output_type": "stream",
     "text": [
      "Loan_ID               0\n",
      "Gender                9\n",
      "Married               3\n",
      "Dependents           12\n",
      "Education             0\n",
      "Self_Employed        27\n",
      "ApplicantIncome       0\n",
      "CoapplicantIncome     0\n",
      "LoanAmount           18\n",
      "Loan_Amount_Term     14\n",
      "Credit_History       41\n",
      "Property_Area         0\n",
      "Loan_Status           0\n",
      "dtype: int64\n"
     ]
    }
   ],
   "source": [
    "#Very Important statement for ML Engineer\n",
    "#To find Null Values in all columns of a dataset\n",
    "print(df.isnull().sum())"
   ]
  },
  {
   "cell_type": "code",
   "execution_count": 80,
   "metadata": {},
   "outputs": [
    {
     "name": "stdout",
     "output_type": "stream",
     "text": [
      "(500, 13)\n"
     ]
    }
   ],
   "source": [
    "print(df.shape)"
   ]
  },
  {
   "cell_type": "code",
   "execution_count": 83,
   "metadata": {},
   "outputs": [],
   "source": [
    "#delete all rows which has null values\n",
    "df.dropna(inplace=True)"
   ]
  },
  {
   "cell_type": "code",
   "execution_count": 84,
   "metadata": {},
   "outputs": [
    {
     "name": "stdout",
     "output_type": "stream",
     "text": [
      "(390, 13)\n"
     ]
    }
   ],
   "source": [
    "print(df.shape)"
   ]
  },
  {
   "cell_type": "code",
   "execution_count": 85,
   "metadata": {},
   "outputs": [
    {
     "name": "stdout",
     "output_type": "stream",
     "text": [
      "Loan_ID              0\n",
      "Gender               0\n",
      "Married              0\n",
      "Dependents           0\n",
      "Education            0\n",
      "Self_Employed        0\n",
      "ApplicantIncome      0\n",
      "CoapplicantIncome    0\n",
      "LoanAmount           0\n",
      "Loan_Amount_Term     0\n",
      "Credit_History       0\n",
      "Property_Area        0\n",
      "Loan_Status          0\n",
      "dtype: int64\n"
     ]
    }
   ],
   "source": [
    "print(df.isnull().sum())"
   ]
  },
  {
   "cell_type": "code",
   "execution_count": null,
   "metadata": {},
   "outputs": [],
   "source": []
  }
 ],
 "metadata": {
  "kernelspec": {
   "display_name": "Python 3",
   "language": "python",
   "name": "python3"
  },
  "language_info": {
   "codemirror_mode": {
    "name": "ipython",
    "version": 3
   },
   "file_extension": ".py",
   "mimetype": "text/x-python",
   "name": "python",
   "nbconvert_exporter": "python",
   "pygments_lexer": "ipython3",
   "version": "3.7.3"
  }
 },
 "nbformat": 4,
 "nbformat_minor": 2
}
