{
 "cells": [
  {
   "cell_type": "code",
   "execution_count": null,
   "metadata": {},
   "outputs": [],
   "source": [
    "#My Own ML Algo \n",
    "import numpy as np\n",
    "class MyLinearRegression:\n",
    "    coef=[]\n",
    "    intercept=0.0\n",
    "    \n",
    "    def fit(s,x,y):\n",
    "        #Some operation on this x and y to find relationship\n",
    "        #set the value of coef and intercept looking \n",
    "        #at the training data\n",
    "        n=len(x)\n",
    "        xsq=np.square(x)\n",
    "        ysq=np.square(y)\n",
    "        xy=[a*b for a,b in zip(x,y)]\n",
    "        sigmaxy=sum(xy)\n",
    "        sigmax=sum(x)\n",
    "        sigmay=sum(y)\n",
    "        sigmaxsq=sum(xsq)\n",
    "        c=(sigmaxy-(sigmax*sigmay)/n)/(sigmaxsq-(sigmax*sigmax/n))\n",
    "        s.coef.append(c)\n",
    "        s.intercept=(sigmay/n)-(sigmax/n)*s.coef[0]\n",
    "        \n",
    "        print(\"Data is fitted and model is made\")\n",
    "        \n",
    "    def predict(s,x):\n",
    "        i=0\n",
    "        y=0.0\n",
    "        for j in x:\n",
    "            y=x[i]*s.coef[i]+y\n",
    "            i=i+1\n",
    "        y=y+s.intercept\n",
    "        return y\n",
    " "
   ]
  }
 ],
 "metadata": {
  "kernelspec": {
   "display_name": "Python 3",
   "language": "python",
   "name": "python3"
  },
  "language_info": {
   "codemirror_mode": {
    "name": "ipython",
    "version": 3
   },
   "file_extension": ".py",
   "mimetype": "text/x-python",
   "name": "python",
   "nbconvert_exporter": "python",
   "pygments_lexer": "ipython3",
   "version": "3.8.3"
  }
 },
 "nbformat": 4,
 "nbformat_minor": 4
}
