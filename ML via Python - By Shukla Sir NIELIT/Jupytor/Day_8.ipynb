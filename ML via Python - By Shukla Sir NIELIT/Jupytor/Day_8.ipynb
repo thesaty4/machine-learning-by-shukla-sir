{
 "cells": [
  {
   "cell_type": "code",
   "execution_count": null,
   "metadata": {},
   "outputs": [],
   "source": [
    "#Write a Program to check whether a number is even or odd\n",
    "number=int(input(\"Enter a Number:\"))\n",
    "if(number%2==0):\n",
    "    print(\"Number is Even\")\n",
    "else:\n",
    "    print(\"Number is Odd\")"
   ]
  },
  {
   "cell_type": "code",
   "execution_count": null,
   "metadata": {},
   "outputs": [],
   "source": [
    "#convert above program using a function\n",
    "def iseven(number):\n",
    "    if(number%2==0):\n",
    "        return 1\n",
    "    else:\n",
    "        return 0\n",
    "number=int(input(\"Enter a Number:\"))\n",
    "a=iseven(number)\n",
    "#print(a)\n",
    "if(a==0):\n",
    "    print(\"Number is odd\")\n",
    "else:\n",
    "    print(\"Number is even\")"
   ]
  },
  {
   "cell_type": "code",
   "execution_count": null,
   "metadata": {},
   "outputs": [],
   "source": [
    "#Write a program which adds only even number of a list\n",
    "#using above function for checking even number\n",
    "\n",
    "l=[12,23,14,15,16,17]\n",
    "sum=0\n",
    "for i in l:\n",
    "    a=iseven(i)\n",
    "    if(a==1):\n",
    "        sum=sum+i\n",
    "print(\"Sum is:\",sum)\n"
   ]
  },
  {
   "cell_type": "code",
   "execution_count": null,
   "metadata": {},
   "outputs": [],
   "source": [
    "#Write a program which adds only odd number of a list\n",
    "#using above function for checking even number\n",
    "\n",
    "l=[12,23,14,15,16,17]\n",
    "sum=0\n",
    "for i in l:\n",
    "    a=iseven(i)\n",
    "    if(a==0):\n",
    "        sum=sum+i\n",
    "print(\"Sum is:\",sum)\n"
   ]
  },
  {
   "cell_type": "code",
   "execution_count": null,
   "metadata": {},
   "outputs": [],
   "source": [
    "#Write a program to find factorial of a given number\n",
    "#fact(5)=1*2*3*4*5=120\n",
    "number=int(input(\"Enter a Number:\"))\n",
    "fact=1\n",
    "for i in range(1,number+1):\n",
    "    fact=fact*i\n",
    "print(fact)\n"
   ]
  },
  {
   "cell_type": "code",
   "execution_count": null,
   "metadata": {},
   "outputs": [],
   "source": [
    "#Write a function to find factorial of a given number\n",
    "#fact(5)=1*2*3*4*5=120\n",
    "def factorial(number):\n",
    "    fact=1\n",
    "    for i in range(1,number+1):\n",
    "        fact=fact*i\n",
    "    return fact\n",
    "number=int(input(\"Enter a Number:\"))\n",
    "a=factorial(number)\n",
    "print(\"Factorial is:\",a)"
   ]
  },
  {
   "cell_type": "code",
   "execution_count": null,
   "metadata": {},
   "outputs": [],
   "source": [
    "#Write a Program to find whether a given number is prime or not\n",
    "#Prime Number: Prime Number is number which is not divisble by any number\n",
    "#except 1 and itself\n",
    "#Perfect example of else with for loop\n",
    "number=int(input(\"Enter a Number:\"))\n",
    "for i in range(2,int(number/2)):\n",
    "    if(number%i==0):\n",
    "        print(\"It is not a Prime Number\")\n",
    "        break #when break is executed, else block is not executed\n",
    "else: #When condition becomes completed, loop finshes , you come to else block\n",
    "    print(\"It is a prime number\")\n",
    "print(\"Thank You\")       \n"
   ]
  },
  {
   "cell_type": "code",
   "execution_count": null,
   "metadata": {},
   "outputs": [],
   "source": [
    "#Write a Function to find whether a given number is prime or not\n",
    "#Prime Number: Prime Number is number which is not divisble by any number\n",
    "#except 1 and itself\n",
    "\n",
    "def isprime(number):\n",
    "    for i in range(2,int(number/2)):\n",
    "        if(number%i==0):\n",
    "            return False\n",
    "            #print(\"It is not a Prime Number\")\n",
    "            break \n",
    "    else: \n",
    "        return True\n",
    "number=int(input(\"Enter a Number:\"))\n",
    "a=isprime(number)\n",
    "if(a==1):\n",
    "    print(\"It is a Prime Number\")\n",
    "else:\n",
    "    print(\"It is not a Prime Number\")"
   ]
  },
  {
   "cell_type": "code",
   "execution_count": null,
   "metadata": {},
   "outputs": [],
   "source": [
    "#Write a Program to sum all elements of a list\n",
    "l=[10,20,30,40]\n",
    "sum=0\n",
    "for i in l:\n",
    "    sum=sum+i\n",
    "print(sum)"
   ]
  },
  {
   "cell_type": "code",
   "execution_count": null,
   "metadata": {},
   "outputs": [],
   "source": [
    "#Write a function to sum all elements of a list\n",
    "\n",
    "def sum(l):\n",
    "    sum=0\n",
    "    for i in l:\n",
    "        sum=sum+i\n",
    "    return sum\n",
    "\n",
    "s=sum([10,20,30])\n",
    "print(\"Sum is:\",s)"
   ]
  },
  {
   "cell_type": "code",
   "execution_count": null,
   "metadata": {},
   "outputs": [],
   "source": [
    "#Write a Program to count the number of elements of a list\n",
    "l=[10,20,30,40]\n",
    "count=0\n",
    "for i in l:\n",
    "    count=count+1\n",
    "print(count)"
   ]
  },
  {
   "cell_type": "code",
   "execution_count": null,
   "metadata": {},
   "outputs": [],
   "source": [
    "#Write a Function to count the number of elements of a list\n",
    "def count(l):\n",
    "    count=0\n",
    "    for i in l:\n",
    "        count=count+1\n",
    "    return count"
   ]
  },
  {
   "cell_type": "code",
   "execution_count": null,
   "metadata": {},
   "outputs": [],
   "source": [
    "#Write a Program to find average or mean of a list data\n",
    "#mean=sum/count\n",
    "l=[10,20,30,40]\n",
    "sum=0\n",
    "count=0\n",
    "for i in l:\n",
    "    sum=sum+i\n",
    "    count=count+1\n",
    "mean=sum/count\n",
    "print(mean)\n"
   ]
  },
  {
   "cell_type": "code",
   "execution_count": null,
   "metadata": {},
   "outputs": [],
   "source": [
    "#Write a Function to find average or mean of a list data\n",
    "#mean=sum/count\n",
    "\n",
    "def average(l):\n",
    "    sum=0\n",
    "    count=0\n",
    "    for i in l:\n",
    "        sum=sum+i\n",
    "        count=count+1\n",
    "    mean=sum/count\n",
    "    return mean\n"
   ]
  },
  {
   "cell_type": "code",
   "execution_count": null,
   "metadata": {},
   "outputs": [],
   "source": [
    "#Write a Program to interchange first and last element of a list\n",
    "l=[10,20,30,40]\n",
    "temp=l[0]\n",
    "l[0]=l[-1] #-1 index means last element\n",
    "l[-1]=temp\n",
    "print(l)\n",
    "\n"
   ]
  },
  {
   "cell_type": "code",
   "execution_count": null,
   "metadata": {},
   "outputs": [],
   "source": [
    "#Write a Function to interchange first and last element of a list\n",
    "def interchange(l):\n",
    "    temp=l[0]\n",
    "    l[0]=l[-1] #-1 index means last element\n",
    "    l[-1]=temp\n",
    "    return l"
   ]
  },
  {
   "cell_type": "code",
   "execution_count": null,
   "metadata": {},
   "outputs": [],
   "source": [
    "#Write a Program to find maximum element of a list\n",
    "l=[10,40,20,30]\n",
    "max=l[0]\n",
    "for i in l:\n",
    "    if(i>max):\n",
    "        max=i\n",
    "print(max)\n",
    "\n"
   ]
  },
  {
   "cell_type": "code",
   "execution_count": null,
   "metadata": {},
   "outputs": [],
   "source": [
    "#Write a Function to find maximum element of a list\n",
    "def max(l):\n",
    "    max=l[0]\n",
    "    for i in l:\n",
    "        if(i>max):\n",
    "            max=i\n",
    "    return max"
   ]
  },
  {
   "cell_type": "code",
   "execution_count": null,
   "metadata": {},
   "outputs": [],
   "source": [
    "#Write a Program to find minimum element of a list\n",
    "l=[10,40,20,30]\n",
    "min=l[0]\n",
    "for i in l:\n",
    "    if(i<min):\n",
    "        min=i\n",
    "print(min)"
   ]
  },
  {
   "cell_type": "code",
   "execution_count": null,
   "metadata": {},
   "outputs": [],
   "source": [
    "#Write a Function to find minimum element of a list\n",
    "def min(l):\n",
    "    min=l[0]\n",
    "    for i in l:\n",
    "        if(i<min):\n",
    "            min=i\n",
    "    return min"
   ]
  },
  {
   "cell_type": "code",
   "execution_count": null,
   "metadata": {},
   "outputs": [],
   "source": [
    "#input some data from user and put into the list\n",
    "n=int(input(\"How many data are there in list:\"))\n",
    "l=[]\n",
    "for i in range(n):\n",
    "    x=int(input(\"Enter the data of the list:\"))\n",
    "    l.append(x)\n",
    "print(l)\n",
    "    "
   ]
  },
  {
   "cell_type": "code",
   "execution_count": null,
   "metadata": {},
   "outputs": [],
   "source": [
    "#input some data from user and put into the list\n",
    "#n=int(input(\"How many data are there in list:\"))\n",
    "def inputdata(n):\n",
    "    l=[]\n",
    "    for i in range(n):\n",
    "        x=int(input(\"Enter the data of the list:\"))\n",
    "        l.append(x)\n",
    "    return l\n",
    "    "
   ]
  },
  {
   "cell_type": "code",
   "execution_count": 3,
   "metadata": {},
   "outputs": [
    {
     "name": "stdout",
     "output_type": "stream",
     "text": [
      "Enter the data of the list:12\n",
      "Enter the data of the list:34\n",
      "Enter the data of the list:56\n"
     ]
    }
   ],
   "source": [
    "#Aug is a package and ListModule is a module\n",
    "import Aug.ListModule as ls\n",
    "x=ls.mylist(3)"
   ]
  },
  {
   "cell_type": "code",
   "execution_count": 4,
   "metadata": {},
   "outputs": [
    {
     "name": "stdout",
     "output_type": "stream",
     "text": [
      "12\n"
     ]
    }
   ],
   "source": [
    "a=x.min()\n",
    "print(a)\n"
   ]
  },
  {
   "cell_type": "code",
   "execution_count": 5,
   "metadata": {},
   "outputs": [
    {
     "name": "stdout",
     "output_type": "stream",
     "text": [
      "[12, 34, 56]\n"
     ]
    }
   ],
   "source": [
    "x.display()"
   ]
  },
  {
   "cell_type": "code",
   "execution_count": 9,
   "metadata": {},
   "outputs": [],
   "source": [
    "import Aug.NumberModule as mn\n",
    "x=mn.mynumber(6)"
   ]
  },
  {
   "cell_type": "code",
   "execution_count": 10,
   "metadata": {},
   "outputs": [
    {
     "name": "stdout",
     "output_type": "stream",
     "text": [
      "720\n"
     ]
    }
   ],
   "source": [
    "a=x.factorial()\n",
    "print(a)"
   ]
  },
  {
   "cell_type": "code",
   "execution_count": 11,
   "metadata": {},
   "outputs": [
    {
     "name": "stdout",
     "output_type": "stream",
     "text": [
      "False\n"
     ]
    }
   ],
   "source": [
    "print(x.isprime())"
   ]
  },
  {
   "cell_type": "code",
   "execution_count": null,
   "metadata": {},
   "outputs": [],
   "source": []
  }
 ],
 "metadata": {
  "kernelspec": {
   "display_name": "Python 3",
   "language": "python",
   "name": "python3"
  },
  "language_info": {
   "codemirror_mode": {
    "name": "ipython",
    "version": 3
   },
   "file_extension": ".py",
   "mimetype": "text/x-python",
   "name": "python",
   "nbconvert_exporter": "python",
   "pygments_lexer": "ipython3",
   "version": "3.7.3"
  }
 },
 "nbformat": 4,
 "nbformat_minor": 2
}
